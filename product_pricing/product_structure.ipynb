{
 "cells": [
  {
   "cell_type": "code",
   "execution_count": 134,
   "metadata": {},
   "outputs": [],
   "source": [
    "import pandas as pd\n",
    "import numpy as np"
   ]
  },
  {
   "cell_type": "markdown",
   "metadata": {},
   "source": [
    "https://derivative.credit-suisse.com/ch/ch/en/detail/callable-brc-alphabet-apple-microsoft-11-00-p-a/CH1149492436/114949243"
   ]
  },
  {
   "cell_type": "code",
   "execution_count": 135,
   "metadata": {},
   "outputs": [
    {
     "data": {
      "text/plain": [
       "(123.074, 40.62596486666558)"
      ]
     },
     "execution_count": 135,
     "metadata": {},
     "output_type": "execute_result"
    }
   ],
   "source": [
    "## Stock Split on GOOGL UW (Alphabet Inc. -A-). The 20 for 1 stock split was adjusted.\n",
    "2461.48 / 20, 5000 / (2461.48 / 20)"
   ]
  },
  {
   "cell_type": "markdown",
   "metadata": {},
   "source": [
    "## Basic descriptions"
   ]
  },
  {
   "cell_type": "code",
   "execution_count": 136,
   "metadata": {},
   "outputs": [],
   "source": [
    "denomination = 5000\n",
    "barrier = 0.59\n",
    "# being the date on which the Strike and the Barrier and the Ratio is fixed,\n",
    "# and from which date the Complex Products may be traded\n",
    "initial_fixing_date = \"2022-04-25\" \n",
    "final_fixing_date = \"2023-07-26\"\n",
    "final_redemption_date = \"2023-08-02\"\n",
    "\n",
    "issue_date = \"2022-05-02\"\n",
    "\n",
    "coupon_rate = 0.11 / 4\n",
    "\n",
    "coupon_payment_dates = [\n",
    "    \"2022-08-02\",\n",
    "    \"2022-11-02\",\n",
    "    \"2023-02-02\",\n",
    "    \"2023-05-02\",\n",
    "    \"2023-08-02\"\n",
    "]\n",
    "\n",
    "exercise_dates = [\n",
    "    \"2022-10-26\",\n",
    "    \"2023-01-26\",\n",
    "    \"2023-04-25\"\n",
    "]\n",
    "\n",
    "early_redemption_dates = [\n",
    "    \"2022-11-02\",\n",
    "    \"2023-02-02\",\n",
    "    \"2023-05-02\"\n",
    "]\n",
    "\n",
    "stock_init_price = {\n",
    "    \"GOOGL\":  2461.48 / 20,\n",
    "    \"AAPL\": 162.88,\n",
    "    \"MSFT\": 280.72\n",
    "}\n",
    "\n",
    "stock_ratio = {\n",
    "    \"GOOGL\":  40.62596486666558,\n",
    "    \"AAPL\": 30.6974,\n",
    "    \"MSFT\": 17.8113\n",
    "}\n",
    "\n",
    "stock_names = [\"GOOGL\",\t\"MSFT\",\t\"AAPL\"]"
   ]
  },
  {
   "cell_type": "code",
   "execution_count": 137,
   "metadata": {},
   "outputs": [],
   "source": [
    "## config\n",
    "log = False"
   ]
  },
  {
   "cell_type": "markdown",
   "metadata": {},
   "source": [
    "## Count Business days"
   ]
  },
  {
   "cell_type": "code",
   "execution_count": 138,
   "metadata": {},
   "outputs": [],
   "source": [
    "def get_business_days_from_initial_date(cur_date, initial_date = issue_date):\n",
    "    return np.busday_count(initial_date, cur_date)\n",
    "\n",
    "def get_business_days_to_final_redemption(cur_date, final_date = final_redemption_date):\n",
    "    return np.busday_count(cur_date, final_date)"
   ]
  },
  {
   "cell_type": "code",
   "execution_count": 139,
   "metadata": {},
   "outputs": [
    {
     "name": "stdout",
     "output_type": "stream",
     "text": [
      "coupon_payment_dates\n",
      "2022-08-02 :  66\n",
      "dates to marutre:  261\n",
      "2022-11-02 :  132\n",
      "dates to marutre:  195\n",
      "2023-02-02 :  198\n",
      "dates to marutre:  129\n",
      "2023-05-02 :  261\n",
      "dates to marutre:  66\n",
      "2023-08-02 :  327\n",
      "dates to marutre:  0\n",
      "early_redemption_dates\n",
      "2022-11-02 :  132\n",
      "dates to marutre:  195\n",
      "2023-02-02 :  198\n",
      "dates to marutre:  129\n",
      "2023-05-02 :  261\n",
      "dates to marutre:  66\n"
     ]
    }
   ],
   "source": [
    "print(\"coupon_payment_dates\")\n",
    "for date in coupon_payment_dates:\n",
    "    print(date, \": \", get_business_days_from_initial_date(date))\n",
    "    print(\"dates to marutre: \", get_business_days_to_final_redemption(date))\n",
    "\n",
    "print(\"early_redemption_dates\")\n",
    "for date in early_redemption_dates:\n",
    "    print(date, \": \", get_business_days_from_initial_date(date))\n",
    "    print(\"dates to marutre: \", get_business_days_to_final_redemption(date))"
   ]
  },
  {
   "cell_type": "markdown",
   "metadata": {},
   "source": [
    "## Caculate interest rate discounted price"
   ]
  },
  {
   "cell_type": "code",
   "execution_count": 140,
   "metadata": {},
   "outputs": [],
   "source": [
    "## dummy intesest rate func \n",
    "# (should return the average interest rate from current date to final redemption date)\n",
    "def get_interest_rate(cur_date, to_date = final_redemption_date):\n",
    "    return 0.03\n",
    "\n",
    "def get_discounted_price(p: float, cur_date, to_date = final_redemption_date):\n",
    "    r = get_interest_rate(cur_date)\n",
    "    return p * np.exp(- r * np.busday_count(cur_date, to_date) / 250)"
   ]
  },
  {
   "cell_type": "code",
   "execution_count": 141,
   "metadata": {},
   "outputs": [
    {
     "data": {
      "text/plain": [
       "96.91653905244968"
      ]
     },
     "execution_count": 141,
     "metadata": {},
     "output_type": "execute_result"
    }
   ],
   "source": [
    "## simple test: how much is $100 one year later worth today?\n",
    "get_discounted_price(100, \"2022-11-07\", \"2023-11-07\")"
   ]
  },
  {
   "cell_type": "code",
   "execution_count": 142,
   "metadata": {},
   "outputs": [],
   "source": [
    "## p_mature should be the lowest total price of stocks\n",
    "def get_product_price(p_mature, cur_date, next_date = final_redemption_date):\n",
    "    coupon_remaining = 0.0\n",
    "    for coupon_payment_date in coupon_payment_dates:\n",
    "        if cur_date <= coupon_payment_date and coupon_payment_date < next_date:\n",
    "            coupon_remaining += get_discounted_price(denomination * coupon_rate, cur_date, coupon_payment_date)\n",
    "    d = get_discounted_price(p_mature, cur_date, final_redemption_date)\n",
    "    return d + coupon_remaining\n"
   ]
  },
  {
   "cell_type": "code",
   "execution_count": 143,
   "metadata": {},
   "outputs": [
    {
     "data": {
      "text/plain": [
       "5346.885791063998"
      ]
     },
     "execution_count": 143,
     "metadata": {},
     "output_type": "execute_result"
    }
   ],
   "source": [
    "## How much is 5000 + 11% quarterly worth on issue_date?\n",
    "get_product_price(5000, issue_date)"
   ]
  },
  {
   "cell_type": "code",
   "execution_count": 144,
   "metadata": {},
   "outputs": [
    {
     "data": {
      "text/plain": [
       "5687.5"
      ]
     },
     "execution_count": 144,
     "metadata": {},
     "output_type": "execute_result"
    }
   ],
   "source": [
    "5000 * (1 + 0.11 * 1.25)"
   ]
  },
  {
   "cell_type": "markdown",
   "metadata": {},
   "source": [
    "## Redemption Amount"
   ]
  },
  {
   "cell_type": "code",
   "execution_count": 145,
   "metadata": {},
   "outputs": [
    {
     "data": {
      "text/plain": [
       "(GOOGL    123.074\n",
       " AAPL     162.880\n",
       " MSFT     280.720\n",
       " dtype: float64,\n",
       " GOOGL    40.625965\n",
       " AAPL     30.697400\n",
       " MSFT     17.811300\n",
       " dtype: float64)"
      ]
     },
     "execution_count": 145,
     "metadata": {},
     "output_type": "execute_result"
    }
   ],
   "source": [
    "df_init_price = pd.Series(stock_init_price)\n",
    "df_convert = pd.Series(stock_ratio)\n",
    "df_init_price, df_convert\n"
   ]
  },
  {
   "cell_type": "code",
   "execution_count": 146,
   "metadata": {},
   "outputs": [],
   "source": [
    "## input: \n",
    "stock_names = [\"GOOGL\", \"AAPL\", \"MSFT\"]\n",
    "\n",
    "def get_redemption_amount(df: pd.DataFrame):\n",
    "    lowest_prices = df[stock_names].min()\n",
    "    barrier_trigger = (lowest_prices / df_init_price < barrier).sum() \n",
    "\n",
    "    # if log:\n",
    "    #     print(\"barrier_trigger\", barrier_trigger)\n",
    "\n",
    "    if barrier_trigger > 0:\n",
    "        tmpdf = df.reset_index().set_index(\"date\")\n",
    "        stock_min = (tmpdf.loc[tmpdf.index.max(), stock_names] * df_convert).min()\n",
    "        if log:\n",
    "            print(\"stock_min\", stock_min)\n",
    "        return min(stock_min, denomination)\n",
    "    else:\n",
    "        return denomination\n"
   ]
  },
  {
   "cell_type": "code",
   "execution_count": 147,
   "metadata": {},
   "outputs": [
    {
     "data": {
      "text/html": [
       "<div>\n",
       "<style scoped>\n",
       "    .dataframe tbody tr th:only-of-type {\n",
       "        vertical-align: middle;\n",
       "    }\n",
       "\n",
       "    .dataframe tbody tr th {\n",
       "        vertical-align: top;\n",
       "    }\n",
       "\n",
       "    .dataframe thead th {\n",
       "        text-align: right;\n",
       "    }\n",
       "</style>\n",
       "<table border=\"1\" class=\"dataframe\">\n",
       "  <thead>\n",
       "    <tr style=\"text-align: right;\">\n",
       "      <th></th>\n",
       "      <th>GOOGL</th>\n",
       "      <th>MSFT</th>\n",
       "      <th>AAPL</th>\n",
       "    </tr>\n",
       "    <tr>\n",
       "      <th>date</th>\n",
       "      <th></th>\n",
       "      <th></th>\n",
       "      <th></th>\n",
       "    </tr>\n",
       "  </thead>\n",
       "  <tbody>\n",
       "    <tr>\n",
       "      <th>2022-07-22</th>\n",
       "      <td>113.602065</td>\n",
       "      <td>262.053037</td>\n",
       "      <td>153.942500</td>\n",
       "    </tr>\n",
       "    <tr>\n",
       "      <th>2022-07-25</th>\n",
       "      <td>114.735530</td>\n",
       "      <td>264.850739</td>\n",
       "      <td>155.106186</td>\n",
       "    </tr>\n",
       "    <tr>\n",
       "      <th>2022-07-26</th>\n",
       "      <td>111.220134</td>\n",
       "      <td>254.515022</td>\n",
       "      <td>148.911027</td>\n",
       "    </tr>\n",
       "    <tr>\n",
       "      <th>2022-07-27</th>\n",
       "      <td>108.008860</td>\n",
       "      <td>247.503351</td>\n",
       "      <td>144.744386</td>\n",
       "    </tr>\n",
       "    <tr>\n",
       "      <th>2022-07-28</th>\n",
       "      <td>103.235604</td>\n",
       "      <td>235.304339</td>\n",
       "      <td>137.725854</td>\n",
       "    </tr>\n",
       "    <tr>\n",
       "      <th>...</th>\n",
       "      <td>...</td>\n",
       "      <td>...</td>\n",
       "      <td>...</td>\n",
       "    </tr>\n",
       "    <tr>\n",
       "      <th>2023-07-20</th>\n",
       "      <td>74.088786</td>\n",
       "      <td>182.356124</td>\n",
       "      <td>127.010467</td>\n",
       "    </tr>\n",
       "    <tr>\n",
       "      <th>2023-07-21</th>\n",
       "      <td>73.337796</td>\n",
       "      <td>179.753237</td>\n",
       "      <td>126.103559</td>\n",
       "    </tr>\n",
       "    <tr>\n",
       "      <th>2023-07-24</th>\n",
       "      <td>68.467933</td>\n",
       "      <td>168.802990</td>\n",
       "      <td>117.956346</td>\n",
       "    </tr>\n",
       "    <tr>\n",
       "      <th>2023-07-25</th>\n",
       "      <td>70.268859</td>\n",
       "      <td>172.845006</td>\n",
       "      <td>121.001134</td>\n",
       "    </tr>\n",
       "    <tr>\n",
       "      <th>2023-07-26</th>\n",
       "      <td>66.413583</td>\n",
       "      <td>164.049111</td>\n",
       "      <td>114.625075</td>\n",
       "    </tr>\n",
       "  </tbody>\n",
       "</table>\n",
       "<p>264 rows × 3 columns</p>\n",
       "</div>"
      ],
      "text/plain": [
       "                 GOOGL        MSFT        AAPL\n",
       "date                                          \n",
       "2022-07-22  113.602065  262.053037  153.942500\n",
       "2022-07-25  114.735530  264.850739  155.106186\n",
       "2022-07-26  111.220134  254.515022  148.911027\n",
       "2022-07-27  108.008860  247.503351  144.744386\n",
       "2022-07-28  103.235604  235.304339  137.725854\n",
       "...                ...         ...         ...\n",
       "2023-07-20   74.088786  182.356124  127.010467\n",
       "2023-07-21   73.337796  179.753237  126.103559\n",
       "2023-07-24   68.467933  168.802990  117.956346\n",
       "2023-07-25   70.268859  172.845006  121.001134\n",
       "2023-07-26   66.413583  164.049111  114.625075\n",
       "\n",
       "[264 rows x 3 columns]"
      ]
     },
     "execution_count": 147,
     "metadata": {},
     "output_type": "execute_result"
    }
   ],
   "source": [
    "sample_path_df = pd.read_csv(\"../generated_data/sample_path.csv\", index_col = \"date\")\n",
    "df = sample_path_df\n",
    "df"
   ]
  },
  {
   "cell_type": "code",
   "execution_count": 148,
   "metadata": {},
   "outputs": [
    {
     "data": {
      "text/plain": [
       "2698.115894502515"
      ]
     },
     "execution_count": 148,
     "metadata": {},
     "output_type": "execute_result"
    }
   ],
   "source": [
    "get_redemption_amount(sample_path_df)"
   ]
  },
  {
   "cell_type": "code",
   "execution_count": 149,
   "metadata": {},
   "outputs": [
    {
     "data": {
      "text/plain": [
       "3155.8428358497395"
      ]
     },
     "execution_count": 149,
     "metadata": {},
     "output_type": "execute_result"
    }
   ],
   "source": [
    "get_product_price(get_redemption_amount(sample_path_df), cur_date = sample_path_df.index.min())"
   ]
  },
  {
   "cell_type": "code",
   "execution_count": 150,
   "metadata": {},
   "outputs": [
    {
     "data": {
      "text/plain": [
       "0.6727715284960676"
      ]
     },
     "execution_count": 150,
     "metadata": {},
     "output_type": "execute_result"
    }
   ],
   "source": [
    "3363.8576424803377 / 5000"
   ]
  },
  {
   "cell_type": "markdown",
   "metadata": {},
   "source": [
    "## Callable Feature"
   ]
  },
  {
   "cell_type": "code",
   "execution_count": 151,
   "metadata": {},
   "outputs": [
    {
     "data": {
      "text/html": [
       "<div>\n",
       "<style scoped>\n",
       "    .dataframe tbody tr th:only-of-type {\n",
       "        vertical-align: middle;\n",
       "    }\n",
       "\n",
       "    .dataframe tbody tr th {\n",
       "        vertical-align: top;\n",
       "    }\n",
       "\n",
       "    .dataframe thead th {\n",
       "        text-align: right;\n",
       "    }\n",
       "</style>\n",
       "<table border=\"1\" class=\"dataframe\">\n",
       "  <thead>\n",
       "    <tr style=\"text-align: right;\">\n",
       "      <th></th>\n",
       "      <th>index</th>\n",
       "      <th>date</th>\n",
       "      <th>GOOGL</th>\n",
       "      <th>MSFT</th>\n",
       "      <th>AAPL</th>\n",
       "    </tr>\n",
       "  </thead>\n",
       "  <tbody>\n",
       "    <tr>\n",
       "      <th>0</th>\n",
       "      <td>0</td>\n",
       "      <td>2022-07-22</td>\n",
       "      <td>115.448914</td>\n",
       "      <td>266.426132</td>\n",
       "      <td>155.975374</td>\n",
       "    </tr>\n",
       "    <tr>\n",
       "      <th>1</th>\n",
       "      <td>0</td>\n",
       "      <td>2022-07-25</td>\n",
       "      <td>112.925112</td>\n",
       "      <td>260.465917</td>\n",
       "      <td>152.309982</td>\n",
       "    </tr>\n",
       "    <tr>\n",
       "      <th>2</th>\n",
       "      <td>0</td>\n",
       "      <td>2022-07-26</td>\n",
       "      <td>113.138557</td>\n",
       "      <td>260.416992</td>\n",
       "      <td>152.366850</td>\n",
       "    </tr>\n",
       "    <tr>\n",
       "      <th>3</th>\n",
       "      <td>0</td>\n",
       "      <td>2022-07-27</td>\n",
       "      <td>111.856239</td>\n",
       "      <td>257.764593</td>\n",
       "      <td>150.462063</td>\n",
       "    </tr>\n",
       "    <tr>\n",
       "      <th>4</th>\n",
       "      <td>0</td>\n",
       "      <td>2022-07-28</td>\n",
       "      <td>115.917357</td>\n",
       "      <td>266.288019</td>\n",
       "      <td>155.022269</td>\n",
       "    </tr>\n",
       "    <tr>\n",
       "      <th>...</th>\n",
       "      <td>...</td>\n",
       "      <td>...</td>\n",
       "      <td>...</td>\n",
       "      <td>...</td>\n",
       "      <td>...</td>\n",
       "    </tr>\n",
       "    <tr>\n",
       "      <th>263995</th>\n",
       "      <td>999</td>\n",
       "      <td>2023-07-20</td>\n",
       "      <td>127.269997</td>\n",
       "      <td>296.520212</td>\n",
       "      <td>198.695519</td>\n",
       "    </tr>\n",
       "    <tr>\n",
       "      <th>263996</th>\n",
       "      <td>999</td>\n",
       "      <td>2023-07-21</td>\n",
       "      <td>129.441063</td>\n",
       "      <td>302.175223</td>\n",
       "      <td>202.513439</td>\n",
       "    </tr>\n",
       "    <tr>\n",
       "      <th>263997</th>\n",
       "      <td>999</td>\n",
       "      <td>2023-07-24</td>\n",
       "      <td>131.499261</td>\n",
       "      <td>307.031882</td>\n",
       "      <td>205.781609</td>\n",
       "    </tr>\n",
       "    <tr>\n",
       "      <th>263998</th>\n",
       "      <td>999</td>\n",
       "      <td>2023-07-25</td>\n",
       "      <td>130.433539</td>\n",
       "      <td>303.702342</td>\n",
       "      <td>203.195148</td>\n",
       "    </tr>\n",
       "    <tr>\n",
       "      <th>263999</th>\n",
       "      <td>999</td>\n",
       "      <td>2023-07-26</td>\n",
       "      <td>128.998381</td>\n",
       "      <td>300.615052</td>\n",
       "      <td>201.698102</td>\n",
       "    </tr>\n",
       "  </tbody>\n",
       "</table>\n",
       "<p>264000 rows × 5 columns</p>\n",
       "</div>"
      ],
      "text/plain": [
       "        index        date       GOOGL        MSFT        AAPL\n",
       "0           0  2022-07-22  115.448914  266.426132  155.975374\n",
       "1           0  2022-07-25  112.925112  260.465917  152.309982\n",
       "2           0  2022-07-26  113.138557  260.416992  152.366850\n",
       "3           0  2022-07-27  111.856239  257.764593  150.462063\n",
       "4           0  2022-07-28  115.917357  266.288019  155.022269\n",
       "...       ...         ...         ...         ...         ...\n",
       "263995    999  2023-07-20  127.269997  296.520212  198.695519\n",
       "263996    999  2023-07-21  129.441063  302.175223  202.513439\n",
       "263997    999  2023-07-24  131.499261  307.031882  205.781609\n",
       "263998    999  2023-07-25  130.433539  303.702342  203.195148\n",
       "263999    999  2023-07-26  128.998381  300.615052  201.698102\n",
       "\n",
       "[264000 rows x 5 columns]"
      ]
     },
     "execution_count": 151,
     "metadata": {},
     "output_type": "execute_result"
    }
   ],
   "source": [
    "sample_sim_1000 = pd.read_csv(\"../generated_data/sample_sim_1000.csv\", index_col=[\"index\", \"date\"])\n",
    "sample_sim_1000.reset_index(inplace=True)\n",
    "sample_sim_1000 "
   ]
  },
  {
   "cell_type": "code",
   "execution_count": 152,
   "metadata": {},
   "outputs": [],
   "source": [
    "import statsmodels.api as sm"
   ]
  },
  {
   "cell_type": "code",
   "execution_count": 153,
   "metadata": {},
   "outputs": [],
   "source": [
    "## y = a_0 + a_1 * x + a_2 * x ** 2\n",
    "class Poly2DModel:\n",
    "    \n",
    "    mod: sm.OLS\n",
    "    x_name: str\n",
    "    \n",
    "    def fit(self, df : pd.DataFrame, x_names: list, y_name: str):\n",
    "        self.x_names = x_names.copy()\n",
    "        self.df = df\n",
    "        for x_name in self.x_names:\n",
    "            self.df[x_name + \"_sq\"] = np.power(self.df[x_name], 2)\n",
    "        \n",
    "        self.x_names.extend([x_name + \"_sq\" for x_name in self.x_names])\n",
    "            \n",
    "        self.X = sm.add_constant(self.df[self.x_names])\n",
    "        self.y = self.df[y_name]\n",
    "        self.mod = sm.OLS(self.y, self.X).fit()\n",
    "\n",
    "    def predict(self):\n",
    "        self.df[\"pred\"] = self.mod.predict()\n",
    "        return self.mod.predict()"
   ]
  },
  {
   "cell_type": "code",
   "execution_count": 154,
   "metadata": {},
   "outputs": [],
   "source": [
    "test_df = (\n",
    "    sample_sim_1000[((sample_sim_1000[\"date\"] == \"2023-07-26\") | (sample_sim_1000[\"date\"] == \"2022-08-02\"))]\n",
    "    [[\"index\", \"date\", \"GOOGL\"]]\n",
    "    .pivot(index = \"index\", columns = \"date\", values = \"GOOGL\")\n",
    ")"
   ]
  },
  {
   "cell_type": "code",
   "execution_count": 155,
   "metadata": {},
   "outputs": [
    {
     "data": {
      "text/plain": [
       "<AxesSubplot:xlabel='2022-08-02', ylabel='pred'>"
      ]
     },
     "execution_count": 155,
     "metadata": {},
     "output_type": "execute_result"
    },
    {
     "data": {
      "image/png": "[encoded data removed]",
      "text/plain": [
       "<Figure size 432x288 with 1 Axes>"
      ]
     },
     "metadata": {
      "needs_background": "light"
     },
     "output_type": "display_data"
    }
   ],
   "source": [
    "mod = Poly2DModel()\n",
    "mod.fit(test_df, x_names = [\"2023-07-26\"], y_name=\"2022-08-02\")\n",
    "mod.predict()\n",
    "mod.df.plot(x = \"2022-08-02\", y = \"pred\", kind= \"scatter\")"
   ]
  },
  {
   "cell_type": "code",
   "execution_count": 156,
   "metadata": {},
   "outputs": [],
   "source": [
    "def get_sim_noncallable_price(df: pd.DataFrame):\n",
    "    func_df = df.set_index([\"index\", \"date\"])\n",
    "    l = []\n",
    "    for i in  range(1000):\n",
    "        tmp_df = func_df.loc[i]\n",
    "        l.append(get_product_price(get_redemption_amount(tmp_df), cur_date = final_redemption_date))\n",
    "        \n",
    "    return pd.Series(l, index = pd.Series([x for x in range(1000)]))"
   ]
  },
  {
   "cell_type": "code",
   "execution_count": 157,
   "metadata": {},
   "outputs": [],
   "source": [
    "final_prices = get_sim_noncallable_price(sample_sim_1000)"
   ]
  },
  {
   "cell_type": "code",
   "execution_count": 158,
   "metadata": {},
   "outputs": [
    {
     "data": {
      "text/plain": [
       "0      3813.290597\n",
       "1      5000.000000\n",
       "2      5000.000000\n",
       "3      2730.380134\n",
       "4      1533.663143\n",
       "          ...     \n",
       "995    5000.000000\n",
       "996    5000.000000\n",
       "997    5000.000000\n",
       "998    5000.000000\n",
       "999    5000.000000\n",
       "Length: 1000, dtype: float64"
      ]
     },
     "execution_count": 158,
     "metadata": {},
     "output_type": "execute_result"
    }
   ],
   "source": [
    "final_prices"
   ]
  },
  {
   "cell_type": "code",
   "execution_count": 159,
   "metadata": {},
   "outputs": [],
   "source": [
    "# input df: to get prices of underlying assets to run the regression\n",
    "def get_v_backward(df: pd.DataFrame, exercise_date: str, redemption_date: str, v: pd.Series, v_date: str) -> pd.Series:\n",
    "    discounted_v = v.apply(lambda x: get_discounted_price(x, redemption_date, v_date))\n",
    "    mod = Poly2DModel()\n",
    "    regress_input_df = (\n",
    "        df.set_index([\"date\", \"index\"])\n",
    "        .loc[exercise_date, stock_names]\n",
    "    ).assign(discounted_v = discounted_v)\n",
    "\n",
    "    mod.fit(regress_input_df, stock_names, \"discounted_v\")\n",
    "    pred_v = mod.predict()\n",
    "\n",
    "    return discounted_v.where((pred_v < denomination), other = denomination) + denomination * coupon_rate"
   ]
  },
  {
   "cell_type": "code",
   "execution_count": 160,
   "metadata": {},
   "outputs": [],
   "source": [
    "final_prices = get_sim_noncallable_price(sample_sim_1000)"
   ]
  },
  {
   "cell_type": "code",
   "execution_count": 161,
   "metadata": {},
   "outputs": [
    {
     "data": {
      "text/html": [
       "<div>\n",
       "<style scoped>\n",
       "    .dataframe tbody tr th:only-of-type {\n",
       "        vertical-align: middle;\n",
       "    }\n",
       "\n",
       "    .dataframe tbody tr th {\n",
       "        vertical-align: top;\n",
       "    }\n",
       "\n",
       "    .dataframe thead th {\n",
       "        text-align: right;\n",
       "    }\n",
       "</style>\n",
       "<table border=\"1\" class=\"dataframe\">\n",
       "  <thead>\n",
       "    <tr style=\"text-align: right;\">\n",
       "      <th></th>\n",
       "      <th>GOOGL</th>\n",
       "      <th>AAPL</th>\n",
       "      <th>MSFT</th>\n",
       "    </tr>\n",
       "  </thead>\n",
       "  <tbody>\n",
       "    <tr>\n",
       "      <th>0</th>\n",
       "      <td>115.448914</td>\n",
       "      <td>155.975374</td>\n",
       "      <td>266.426132</td>\n",
       "    </tr>\n",
       "    <tr>\n",
       "      <th>1</th>\n",
       "      <td>112.925112</td>\n",
       "      <td>152.309982</td>\n",
       "      <td>260.465917</td>\n",
       "    </tr>\n",
       "    <tr>\n",
       "      <th>2</th>\n",
       "      <td>113.138557</td>\n",
       "      <td>152.366850</td>\n",
       "      <td>260.416992</td>\n",
       "    </tr>\n",
       "    <tr>\n",
       "      <th>3</th>\n",
       "      <td>111.856239</td>\n",
       "      <td>150.462063</td>\n",
       "      <td>257.764593</td>\n",
       "    </tr>\n",
       "    <tr>\n",
       "      <th>4</th>\n",
       "      <td>115.917357</td>\n",
       "      <td>155.022269</td>\n",
       "      <td>266.288019</td>\n",
       "    </tr>\n",
       "    <tr>\n",
       "      <th>...</th>\n",
       "      <td>...</td>\n",
       "      <td>...</td>\n",
       "      <td>...</td>\n",
       "    </tr>\n",
       "    <tr>\n",
       "      <th>263995</th>\n",
       "      <td>127.269997</td>\n",
       "      <td>198.695519</td>\n",
       "      <td>296.520212</td>\n",
       "    </tr>\n",
       "    <tr>\n",
       "      <th>263996</th>\n",
       "      <td>129.441063</td>\n",
       "      <td>202.513439</td>\n",
       "      <td>302.175223</td>\n",
       "    </tr>\n",
       "    <tr>\n",
       "      <th>263997</th>\n",
       "      <td>131.499261</td>\n",
       "      <td>205.781609</td>\n",
       "      <td>307.031882</td>\n",
       "    </tr>\n",
       "    <tr>\n",
       "      <th>263998</th>\n",
       "      <td>130.433539</td>\n",
       "      <td>203.195148</td>\n",
       "      <td>303.702342</td>\n",
       "    </tr>\n",
       "    <tr>\n",
       "      <th>263999</th>\n",
       "      <td>128.998381</td>\n",
       "      <td>201.698102</td>\n",
       "      <td>300.615052</td>\n",
       "    </tr>\n",
       "  </tbody>\n",
       "</table>\n",
       "<p>264000 rows × 3 columns</p>\n",
       "</div>"
      ],
      "text/plain": [
       "             GOOGL        AAPL        MSFT\n",
       "0       115.448914  155.975374  266.426132\n",
       "1       112.925112  152.309982  260.465917\n",
       "2       113.138557  152.366850  260.416992\n",
       "3       111.856239  150.462063  257.764593\n",
       "4       115.917357  155.022269  266.288019\n",
       "...            ...         ...         ...\n",
       "263995  127.269997  198.695519  296.520212\n",
       "263996  129.441063  202.513439  302.175223\n",
       "263997  131.499261  205.781609  307.031882\n",
       "263998  130.433539  203.195148  303.702342\n",
       "263999  128.998381  201.698102  300.615052\n",
       "\n",
       "[264000 rows x 3 columns]"
      ]
     },
     "execution_count": 161,
     "metadata": {},
     "output_type": "execute_result"
    }
   ],
   "source": [
    "sample_sim_1000[stock_names]"
   ]
  },
  {
   "cell_type": "code",
   "execution_count": 162,
   "metadata": {},
   "outputs": [],
   "source": [
    "v_date = final_redemption_date\n",
    "v_price = get_sim_noncallable_price(sample_sim_1000)\n",
    "cur_date = sample_sim_1000.date.min()\n",
    "for i in range(len(exercise_dates) - 1, -1, -1):\n",
    "    exercise_date = exercise_dates[i]\n",
    "    redemption_date = early_redemption_dates[i]\n",
    "    v_price = get_v_backward(sample_sim_1000, exercise_date, redemption_date, v_price, v_date)\n",
    "    v_date = redemption_date\n"
   ]
  },
  {
   "cell_type": "code",
   "execution_count": 163,
   "metadata": {},
   "outputs": [],
   "source": [
    "v_0_price = v_price.apply(lambda x: get_product_price(x, cur_date, next_date= v_date))"
   ]
  },
  {
   "cell_type": "code",
   "execution_count": 164,
   "metadata": {},
   "outputs": [
    {
     "data": {
      "text/plain": [
       "4503.215886177945"
      ]
     },
     "execution_count": 164,
     "metadata": {},
     "output_type": "execute_result"
    }
   ],
   "source": [
    "v_0_price.mean()"
   ]
  },
  {
   "cell_type": "code",
   "execution_count": 165,
   "metadata": {},
   "outputs": [
    {
     "data": {
      "text/plain": [
       "0.9006431772355891"
      ]
     },
     "execution_count": 165,
     "metadata": {},
     "output_type": "execute_result"
    }
   ],
   "source": [
    "v_0_price.mean() / 5000"
   ]
  },
  {
   "cell_type": "code",
   "execution_count": 167,
   "metadata": {},
   "outputs": [
    {
     "data": {
      "text/plain": [
       "1085.364580815775"
      ]
     },
     "execution_count": 167,
     "metadata": {},
     "output_type": "execute_result"
    }
   ],
   "source": [
    "np.sqrt(v_0_price.var())"
   ]
  },
  {
   "cell_type": "code",
   "execution_count": null,
   "metadata": {},
   "outputs": [],
   "source": []
  }
 ],
 "metadata": {
  "kernelspec": {
   "display_name": "Python 3.9.7 ('tf_gpu')",
   "language": "python",
   "name": "python3"
  },
  "language_info": {
   "codemirror_mode": {
    "name": "ipython",
    "version": 3
   },
   "file_extension": ".py",
   "mimetype": "text/x-python",
   "name": "python",
   "nbconvert_exporter": "python",
   "pygments_lexer": "ipython3",
   "version": "3.9.7"
  },
  "orig_nbformat": 4,
  "vscode": {
   "interpreter": {
    "hash": "7bc5d2492bedd2112def6da40386b14ff447bab14dd7c03f73546c8039a32ba6"
   }
  }
 },
 "nbformat": 4,
 "nbformat_minor": 2
}
