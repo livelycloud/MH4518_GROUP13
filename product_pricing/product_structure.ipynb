{
 "cells": [
  {
   "cell_type": "code",
   "execution_count": 56,
   "metadata": {},
   "outputs": [],
   "source": [
    "import pandas as pd\n",
    "import numpy as np"
   ]
  },
  {
   "cell_type": "code",
   "execution_count": 57,
   "metadata": {},
   "outputs": [
    {
     "data": {
      "text/plain": [
       "(123.074, 40.62596486666558)"
      ]
     },
     "execution_count": 57,
     "metadata": {},
     "output_type": "execute_result"
    }
   ],
   "source": [
    "## Stock Split on GOOGL UW (Alphabet Inc. -A-). The 20 for 1 stock split was adjusted.\n",
    "2461.48 / 20, 5000 / (2461.48 / 20)"
   ]
  },
  {
   "cell_type": "markdown",
   "metadata": {},
   "source": [
    "## Basic descriptions"
   ]
  },
  {
   "cell_type": "code",
   "execution_count": 58,
   "metadata": {},
   "outputs": [],
   "source": [
    "denomination = 5000\n",
    "barrier = 0.59\n",
    "# being the date on which the Strike and the Barrier and the Ratio is fixed,\n",
    "# and from which date the Complex Products may be traded\n",
    "initial_fixing_date = \"2022-04-25\" \n",
    "final_fixing_date = \"2023-07-26\"\n",
    "final_redemption_date = \"2023-08-02\"\n",
    "\n",
    "issue_date = \"2022-05-02\"\n",
    "\n",
    "coupon_rate = 0.11 / 4\n",
    "\n",
    "coupon_payment_dates = [\n",
    "    \"2022-08-02\",\n",
    "    \"2022-11-02\",\n",
    "    \"2023-02-02\",\n",
    "    \"2023-05-02\",\n",
    "    \"2023-08-02\"\n",
    "]\n",
    "\n",
    "early_redemption_dates = [\n",
    "    \"2022-11-02\",\n",
    "    \"2023-02-02\",\n",
    "    \"2023-05-02\"\n",
    "]\n",
    "\n",
    "stock_init_price = {\n",
    "    \"GOOGL\":  2461.48 / 20,\n",
    "    \"AAPL\": 162.88,\n",
    "    \"MSFT\": 280.72\n",
    "}\n",
    "\n",
    "stock_ratio = {\n",
    "    \"GOOGL\":  40.62596486666558,\n",
    "    \"AAPL\": 30.6974,\n",
    "    \"MSFT\": 17.8113\n",
    "}\n"
   ]
  },
  {
   "cell_type": "code",
   "execution_count": 77,
   "metadata": {},
   "outputs": [],
   "source": [
    "## config\n",
    "log = True"
   ]
  },
  {
   "cell_type": "markdown",
   "metadata": {},
   "source": [
    "## Count Business days"
   ]
  },
  {
   "cell_type": "code",
   "execution_count": 59,
   "metadata": {},
   "outputs": [],
   "source": [
    "def get_business_days_from_initial_date(cur_date, initial_date = issue_date):\n",
    "    return np.busday_count(initial_date, cur_date)\n",
    "\n",
    "def get_business_days_to_final_redemption(cur_date, final_date = final_redemption_date):\n",
    "    return np.busday_count(cur_date, final_date)"
   ]
  },
  {
   "cell_type": "code",
   "execution_count": 60,
   "metadata": {},
   "outputs": [
    {
     "name": "stdout",
     "output_type": "stream",
     "text": [
      "coupon_payment_dates\n",
      "2022-08-02 :  66\n",
      "dates to marutre:  261\n",
      "2022-11-02 :  132\n",
      "dates to marutre:  195\n",
      "2023-02-02 :  198\n",
      "dates to marutre:  129\n",
      "2023-05-02 :  261\n",
      "dates to marutre:  66\n",
      "2023-08-02 :  327\n",
      "dates to marutre:  0\n",
      "early_redemption_dates\n",
      "2022-11-02 :  132\n",
      "dates to marutre:  195\n",
      "2023-02-02 :  198\n",
      "dates to marutre:  129\n",
      "2023-05-02 :  261\n",
      "dates to marutre:  66\n"
     ]
    }
   ],
   "source": [
    "print(\"coupon_payment_dates\")\n",
    "for date in coupon_payment_dates:\n",
    "    print(date, \": \", get_business_days_from_initial_date(date))\n",
    "    print(\"dates to marutre: \", get_business_days_to_final_redemption(date))\n",
    "\n",
    "print(\"early_redemption_dates\")\n",
    "for date in early_redemption_dates:\n",
    "    print(date, \": \", get_business_days_from_initial_date(date))\n",
    "    print(\"dates to marutre: \", get_business_days_to_final_redemption(date))"
   ]
  },
  {
   "cell_type": "markdown",
   "metadata": {},
   "source": [
    "## Caculate interest rate discounted price"
   ]
  },
  {
   "cell_type": "code",
   "execution_count": 61,
   "metadata": {},
   "outputs": [],
   "source": [
    "## dummy intesest rate func \n",
    "# (should return the average interest rate from current date to final redemption date)\n",
    "def get_interest_rate(cur_date, to_date = final_redemption_date):\n",
    "    return 0.03\n",
    "\n",
    "def get_discounted_price(p: float, cur_date, to_date = final_redemption_date):\n",
    "    r = get_interest_rate(cur_date)\n",
    "    return p * np.exp(- r * np.busday_count(cur_date, to_date) / 250)"
   ]
  },
  {
   "cell_type": "code",
   "execution_count": 62,
   "metadata": {},
   "outputs": [
    {
     "data": {
      "text/plain": [
       "96.91653905244968"
      ]
     },
     "execution_count": 62,
     "metadata": {},
     "output_type": "execute_result"
    }
   ],
   "source": [
    "## simple test: how much is $100 one year later worth today?\n",
    "get_discounted_price(100, \"2022-11-07\", \"2023-11-07\")"
   ]
  },
  {
   "cell_type": "code",
   "execution_count": 116,
   "metadata": {},
   "outputs": [],
   "source": [
    "## p_mature should be the lowest total price of stocks\n",
    "def get_product_price(p_mature, cur_date):\n",
    "    coupon_remaining = 0.0\n",
    "    for coupon_payment_date in coupon_payment_dates:\n",
    "        if cur_date < coupon_payment_date:\n",
    "            coupon_remaining += get_discounted_price(denomination * coupon_rate, cur_date, coupon_payment_date)\n",
    "    d = get_discounted_price(p_mature, cur_date, final_redemption_date)\n",
    "    return d + coupon_remaining\n"
   ]
  },
  {
   "cell_type": "code",
   "execution_count": 64,
   "metadata": {},
   "outputs": [
    {
     "data": {
      "text/plain": [
       "5661.0449427122585"
      ]
     },
     "execution_count": 64,
     "metadata": {},
     "output_type": "execute_result"
    }
   ],
   "source": [
    "## How much is 5000 + 11% quarterly worth on issue_date?\n",
    "get_product_price(5000, issue_date)"
   ]
  },
  {
   "cell_type": "code",
   "execution_count": 65,
   "metadata": {},
   "outputs": [
    {
     "data": {
      "text/plain": [
       "5825.0"
      ]
     },
     "execution_count": 65,
     "metadata": {},
     "output_type": "execute_result"
    }
   ],
   "source": [
    "5000 * (1 + 0.11 * 1.5)"
   ]
  },
  {
   "cell_type": "markdown",
   "metadata": {},
   "source": [
    "## Redemption Amount"
   ]
  },
  {
   "cell_type": "code",
   "execution_count": 66,
   "metadata": {},
   "outputs": [
    {
     "data": {
      "text/plain": [
       "(GOOGL    123.074\n",
       " AAPL     162.880\n",
       " MSFT     280.720\n",
       " dtype: float64,\n",
       " GOOGL    40.625965\n",
       " AAPL     30.697400\n",
       " MSFT     17.811300\n",
       " dtype: float64)"
      ]
     },
     "execution_count": 66,
     "metadata": {},
     "output_type": "execute_result"
    }
   ],
   "source": [
    "df_init_price = pd.Series(stock_init_price)\n",
    "df_convert = pd.Series(stock_ratio)\n",
    "df_init_price, df_convert\n"
   ]
  },
  {
   "cell_type": "code",
   "execution_count": 111,
   "metadata": {},
   "outputs": [],
   "source": [
    "## input: \n",
    "stock_names = [\"GOOGL\", \"AAPL\", \"MSFT\"]\n",
    "\n",
    "def get_redemption_amount(df: pd.DataFrame):\n",
    "    lowest_prices = df[stock_names].min()\n",
    "    barrier_trigger = (lowest_prices / df_init_price < barrier).sum() \n",
    "\n",
    "    if log:\n",
    "        print(\"barrier_trigger\", barrier_trigger)\n",
    "\n",
    "    if barrier_trigger > 0:\n",
    "        stock_min = (df.loc[df.index.max(), stock_names] * df_convert).min()\n",
    "        if log:\n",
    "            print(\"stock_min\", stock_min)\n",
    "        return min(stock_min, denomination)\n",
    "    else:\n",
    "        return denomination\n"
   ]
  },
  {
   "cell_type": "code",
   "execution_count": 112,
   "metadata": {},
   "outputs": [
    {
     "data": {
      "text/html": [
       "<div>\n",
       "<style scoped>\n",
       "    .dataframe tbody tr th:only-of-type {\n",
       "        vertical-align: middle;\n",
       "    }\n",
       "\n",
       "    .dataframe tbody tr th {\n",
       "        vertical-align: top;\n",
       "    }\n",
       "\n",
       "    .dataframe thead th {\n",
       "        text-align: right;\n",
       "    }\n",
       "</style>\n",
       "<table border=\"1\" class=\"dataframe\">\n",
       "  <thead>\n",
       "    <tr style=\"text-align: right;\">\n",
       "      <th></th>\n",
       "      <th>GOOGL</th>\n",
       "      <th>MSFT</th>\n",
       "      <th>AAPL</th>\n",
       "    </tr>\n",
       "    <tr>\n",
       "      <th>date</th>\n",
       "      <th></th>\n",
       "      <th></th>\n",
       "      <th></th>\n",
       "    </tr>\n",
       "  </thead>\n",
       "  <tbody>\n",
       "    <tr>\n",
       "      <th>2022-07-22</th>\n",
       "      <td>113.602065</td>\n",
       "      <td>262.053037</td>\n",
       "      <td>153.942500</td>\n",
       "    </tr>\n",
       "    <tr>\n",
       "      <th>2022-07-25</th>\n",
       "      <td>114.735530</td>\n",
       "      <td>264.850739</td>\n",
       "      <td>155.106186</td>\n",
       "    </tr>\n",
       "    <tr>\n",
       "      <th>2022-07-26</th>\n",
       "      <td>111.220134</td>\n",
       "      <td>254.515022</td>\n",
       "      <td>148.911027</td>\n",
       "    </tr>\n",
       "    <tr>\n",
       "      <th>2022-07-27</th>\n",
       "      <td>108.008860</td>\n",
       "      <td>247.503351</td>\n",
       "      <td>144.744386</td>\n",
       "    </tr>\n",
       "    <tr>\n",
       "      <th>2022-07-28</th>\n",
       "      <td>103.235604</td>\n",
       "      <td>235.304339</td>\n",
       "      <td>137.725854</td>\n",
       "    </tr>\n",
       "    <tr>\n",
       "      <th>...</th>\n",
       "      <td>...</td>\n",
       "      <td>...</td>\n",
       "      <td>...</td>\n",
       "    </tr>\n",
       "    <tr>\n",
       "      <th>2023-07-20</th>\n",
       "      <td>74.088786</td>\n",
       "      <td>182.356124</td>\n",
       "      <td>127.010467</td>\n",
       "    </tr>\n",
       "    <tr>\n",
       "      <th>2023-07-21</th>\n",
       "      <td>73.337796</td>\n",
       "      <td>179.753237</td>\n",
       "      <td>126.103559</td>\n",
       "    </tr>\n",
       "    <tr>\n",
       "      <th>2023-07-24</th>\n",
       "      <td>68.467933</td>\n",
       "      <td>168.802990</td>\n",
       "      <td>117.956346</td>\n",
       "    </tr>\n",
       "    <tr>\n",
       "      <th>2023-07-25</th>\n",
       "      <td>70.268859</td>\n",
       "      <td>172.845006</td>\n",
       "      <td>121.001134</td>\n",
       "    </tr>\n",
       "    <tr>\n",
       "      <th>2023-07-26</th>\n",
       "      <td>66.413583</td>\n",
       "      <td>164.049111</td>\n",
       "      <td>114.625075</td>\n",
       "    </tr>\n",
       "  </tbody>\n",
       "</table>\n",
       "<p>264 rows × 3 columns</p>\n",
       "</div>"
      ],
      "text/plain": [
       "                 GOOGL        MSFT        AAPL\n",
       "date                                          \n",
       "2022-07-22  113.602065  262.053037  153.942500\n",
       "2022-07-25  114.735530  264.850739  155.106186\n",
       "2022-07-26  111.220134  254.515022  148.911027\n",
       "2022-07-27  108.008860  247.503351  144.744386\n",
       "2022-07-28  103.235604  235.304339  137.725854\n",
       "...                ...         ...         ...\n",
       "2023-07-20   74.088786  182.356124  127.010467\n",
       "2023-07-21   73.337796  179.753237  126.103559\n",
       "2023-07-24   68.467933  168.802990  117.956346\n",
       "2023-07-25   70.268859  172.845006  121.001134\n",
       "2023-07-26   66.413583  164.049111  114.625075\n",
       "\n",
       "[264 rows x 3 columns]"
      ]
     },
     "execution_count": 112,
     "metadata": {},
     "output_type": "execute_result"
    }
   ],
   "source": [
    "sample_path_df = pd.read_csv(\"../generated_data/sample_path.csv\", index_col = \"date\")\n",
    "df = sample_path_df\n",
    "df"
   ]
  },
  {
   "cell_type": "code",
   "execution_count": 113,
   "metadata": {},
   "outputs": [
    {
     "name": "stdout",
     "output_type": "stream",
     "text": [
      "barrier_trigger 3\n",
      "stock_min 2698.115894502515\n"
     ]
    },
    {
     "data": {
      "text/plain": [
       "2698.115894502515"
      ]
     },
     "execution_count": 113,
     "metadata": {},
     "output_type": "execute_result"
    }
   ],
   "source": [
    "get_redemption_amount(sample_path_df)"
   ]
  },
  {
   "cell_type": "code",
   "execution_count": 117,
   "metadata": {},
   "outputs": [
    {
     "name": "stdout",
     "output_type": "stream",
     "text": [
      "barrier_trigger 3\n",
      "stock_min 2698.115894502515\n"
     ]
    },
    {
     "data": {
      "text/plain": [
       "3288.9911854453044"
      ]
     },
     "execution_count": 117,
     "metadata": {},
     "output_type": "execute_result"
    }
   ],
   "source": [
    "get_product_price(get_redemption_amount(sample_path_df), cur_date = sample_path_df.index.min())"
   ]
  },
  {
   "cell_type": "code",
   "execution_count": 115,
   "metadata": {},
   "outputs": [
    {
     "data": {
      "text/plain": [
       "0.6727715284960676"
      ]
     },
     "execution_count": 115,
     "metadata": {},
     "output_type": "execute_result"
    }
   ],
   "source": [
    "3363.8576424803377 / 5000"
   ]
  },
  {
   "cell_type": "markdown",
   "metadata": {},
   "source": []
  }
 ],
 "metadata": {
  "kernelspec": {
   "display_name": "Python 3.9.7 ('tf_gpu')",
   "language": "python",
   "name": "python3"
  },
  "language_info": {
   "codemirror_mode": {
    "name": "ipython",
    "version": 3
   },
   "file_extension": ".py",
   "mimetype": "text/x-python",
   "name": "python",
   "nbconvert_exporter": "python",
   "pygments_lexer": "ipython3",
   "version": "3.9.7"
  },
  "orig_nbformat": 4,
  "vscode": {
   "interpreter": {
    "hash": "7bc5d2492bedd2112def6da40386b14ff447bab14dd7c03f73546c8039a32ba6"
   }
  }
 },
 "nbformat": 4,
 "nbformat_minor": 2
}
