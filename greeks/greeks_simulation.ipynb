{
 "cells": [
  {
   "cell_type": "code",
   "execution_count": 15,
   "metadata": {},
   "outputs": [],
   "source": [
    "from asset_model import *"
   ]
  },
  {
   "cell_type": "markdown",
   "metadata": {},
   "source": [
    "### should be hidden functions"
   ]
  },
  {
   "cell_type": "code",
   "execution_count": 16,
   "metadata": {},
   "outputs": [],
   "source": [
    "import pandas as pd\n",
    "import numpy as np\n",
    "import statsmodels.api as sm\n",
    "from tqdm import tqdm\n",
    "\n",
    "inerest_rate_path = \"../interest rate model/interest_rate_wh.csv\"\n",
    "simulation_path = \"../generated_data/multiGBM_simple_1000/\"\n",
    "\n",
    "time_format = \"%Y-%m-%d\"\n",
    "\n",
    "interest_rate_date = \"2022-07-26\" # TODO: hard code, need to change when used\n",
    "\n",
    "denomination = 5000\n",
    "barrier = 0.59\n",
    "# being the date on which the Strike and the Barrier and the Ratio is fixed,\n",
    "# and from which date the Complex Products may be traded\n",
    "initial_fixing_date = \"2022-04-25\" \n",
    "final_fixing_date = \"2023-07-26\"\n",
    "final_redemption_date = \"2023-08-02\"\n",
    "\n",
    "issue_date = \"2022-05-02\"\n",
    "\n",
    "coupon_rate = 0.11 / 4\n",
    "\n",
    "coupon_payment_dates = [\n",
    "    \"2022-08-02\",\n",
    "    \"2022-11-02\",\n",
    "    \"2023-02-02\",\n",
    "    \"2023-05-02\",\n",
    "    \"2023-08-02\"\n",
    "]\n",
    "\n",
    "exercise_dates = [\n",
    "    \"2022-10-26\",\n",
    "    \"2023-01-26\",\n",
    "    \"2023-04-25\"\n",
    "]\n",
    "\n",
    "early_redemption_dates = [\n",
    "    \"2022-11-02\",\n",
    "    \"2023-02-02\",\n",
    "    \"2023-05-02\"\n",
    "]\n",
    "\n",
    "stock_init_price = {\n",
    "    \"GOOGL\":  2461.48 / 20,\n",
    "    \"AAPL\": 162.88,\n",
    "    \"MSFT\": 280.72\n",
    "}\n",
    "\n",
    "stock_ratio = {\n",
    "    \"GOOGL\":  40.62596486666558,\n",
    "    \"AAPL\": 30.6974,\n",
    "    \"MSFT\": 17.8113\n",
    "}\n",
    "\n",
    "stock_names = [\"GOOGL\",\t\"MSFT\",\t\"AAPL\"]\n",
    "\n",
    "\n",
    "\n",
    "def get_business_days_from_initial_date(cur_date, initial_date = issue_date):\n",
    "    return np.busday_count(initial_date, cur_date)\n",
    "\n",
    "def get_business_days_to_final_redemption(cur_date, final_date = final_redemption_date):\n",
    "    return np.busday_count(cur_date, final_date)\n",
    "\n",
    "## dummy intesest rate func \n",
    "# (should return the average interest rate from current date to final redemption date)\n",
    "def get_interest_rate(cur_date, to_date = final_redemption_date):\n",
    "    # r = float(interest_rate_df.loc[interest_rate_date, \"rate\"]) / 100\n",
    "\n",
    "    /## TODO: return r\n",
    "    return 1.742355916 / 100\n",
    "\n",
    "def get_discounted_price(p: float, cur_date, to_date = final_redemption_date):\n",
    "    r = get_interest_rate(cur_date)\n",
    "    return p * np.exp(- r * np.busday_count(cur_date, to_date) / 250)\n",
    "\n",
    "## p_mature should be the lowest total price of stocks\n",
    "def get_product_price(p_mature, cur_date, next_date = final_redemption_date):\n",
    "    coupon_remaining = 0.0\n",
    "    for coupon_payment_date in coupon_payment_dates:\n",
    "        if cur_date <= coupon_payment_date and coupon_payment_date < next_date:\n",
    "            coupon_remaining += get_discounted_price(denomination * coupon_rate, cur_date, coupon_payment_date)\n",
    "    d = get_discounted_price(p_mature, cur_date, final_redemption_date)\n",
    "    return d + coupon_remaining\n",
    "\n",
    "## input: \n",
    "stock_names = [\"GOOGL\", \"AAPL\", \"MSFT\"]\n",
    "\n",
    "def get_redemption_amount(df: pd.DataFrame):\n",
    "    lowest_prices = df[stock_names].min()\n",
    "    barrier_trigger = (lowest_prices / df_init_price < barrier).sum() \n",
    "\n",
    "    # if log:\n",
    "    #     print(\"barrier_trigger\", barrier_trigger)\n",
    "\n",
    "    if barrier_trigger > 0:\n",
    "        tmpdf = df.reset_index().set_index(\"date\")\n",
    "        stock_min = (tmpdf.loc[tmpdf.index.max(), stock_names] * df_convert).min()\n",
    "        # if log:\n",
    "        #     print(\"stock_min\", stock_min)\n",
    "        return min(stock_min, denomination)\n",
    "    else:\n",
    "        return denomination\n",
    "\n",
    "## y = a_0 + a_1 * x + a_2 * x ** 2\n",
    "class Poly2DModel:\n",
    "    \n",
    "    mod: sm.OLS\n",
    "    x_name: str\n",
    "    \n",
    "    def fit(self, df : pd.DataFrame, x_names: list, y_name: str):\n",
    "        self.x_names = x_names.copy()\n",
    "        self.df = df\n",
    "        for x_name in self.x_names:\n",
    "            self.df[x_name + \"_sq\"] = np.power(self.df[x_name], 2)\n",
    "        \n",
    "        self.x_names.extend([x_name + \"_sq\" for x_name in self.x_names])\n",
    "            \n",
    "        self.X = sm.add_constant(self.df[self.x_names])\n",
    "        self.y = self.df[y_name]\n",
    "        self.mod = sm.OLS(self.y, self.X).fit()\n",
    "\n",
    "    def predict(self):\n",
    "        self.df[\"pred\"] = self.mod.predict()\n",
    "        return self.mod.predict()\n",
    "\n",
    "def get_sim_noncallable_price(df: pd.DataFrame):\n",
    "    func_df = df.set_index([\"index\", \"date\"])\n",
    "    l = []\n",
    "    for i in  range(1000):\n",
    "        tmp_df = func_df.loc[i]\n",
    "        l.append(get_product_price(get_redemption_amount(tmp_df), cur_date = final_redemption_date))\n",
    "        \n",
    "    return pd.Series(l, index = pd.Series([x for x in range(1000)]))\n",
    "\n",
    "# input df: to get prices of underlying assets to run the regression\n",
    "def get_v_backward(df: pd.DataFrame, exercise_date: str, redemption_date: str, v: pd.Series, v_date: str) -> pd.Series:\n",
    "    discounted_v = v.apply(lambda x: get_discounted_price(x, redemption_date, v_date))\n",
    "    mod = Poly2DModel()\n",
    "    regress_input_df = (\n",
    "        df.set_index([\"date\", \"index\"])\n",
    "        .loc[exercise_date, stock_names]\n",
    "    ).assign(discounted_v = discounted_v)\n",
    "\n",
    "    mod.fit(regress_input_df, stock_names, \"discounted_v\")\n",
    "    pred_v = mod.predict()\n",
    "\n",
    "    return discounted_v.where((pred_v < denomination), other = denomination) + denomination * coupon_rate\n"
   ]
  },
  {
   "cell_type": "markdown",
   "metadata": {},
   "source": [
    "## Define suitable simulator"
   ]
  },
  {
   "cell_type": "markdown",
   "metadata": {},
   "source": [
    "use \"2022-07-01\" as example (data until \"2022-06-30\")"
   ]
  },
  {
   "cell_type": "code",
   "execution_count": 17,
   "metadata": {},
   "outputs": [],
   "source": [
    "class MultiAssetGBM_h(MultiAssetGBM):\n",
    "\n",
    "    def update_price(self, stock_name: str, date, h: float):\n",
    "        self.df.loc[date, stock_name] += h\n",
    "        self.calculate_returns()\n",
    "\n",
    "    def change_back_price(self, stock_name: str, date, h: float):\n",
    "        self.df.loc[date, stock_name] -= h\n",
    "        self.calculate_returns()\n",
    "\n",
    "    def calculate_returns(self):\n",
    "        calculate_returns(self.df, asset_names)\n"
   ]
  },
  {
   "cell_type": "markdown",
   "metadata": {},
   "source": [
    "### Simulate Delta using finate difference model"
   ]
  },
  {
   "cell_type": "code",
   "execution_count": 37,
   "metadata": {},
   "outputs": [],
   "source": [
    "def get_v_0_series(price_change_asset, h):\n",
    "\n",
    "    time_format = \"%Y-%m-%d\"\n",
    "    cur_date = pd.to_datetime(\"2022-06-30\", format = time_format)\n",
    "    np.random.seed(4518)\n",
    "\n",
    "\n",
    "    sample_cols = [\"GOOGL\", \"MSFT\", \"AAPL\"]\n",
    "    fixing_date = \"2023-07-26\"\n",
    "    asset_names = [\"GOOGL UW Equity\", \"MSFT UW Equity\", \"AAPL UW Equity\"]\n",
    "    df = pd.read_csv(\"../stock_pricing/stock_historical_prices.csv\")\n",
    "\n",
    "    multassetGBM = MultiAssetGBM_h(df, fixing_date, asset_names)\n",
    "\n",
    "    sample_start_date = cur_date + pd.Timedelta(days = 1)\n",
    "    historical_data_start_date = (cur_date - pd.Timedelta(days = 365)).strftime(time_format)\n",
    "    multassetGBM.set_start_date(historical_data_start_date)\n",
    "    multassetGBM.update_price(price_change_asset, cur_date, h)\n",
    "    samples = [pd.DataFrame(multassetGBM.get_path(cur_date.strftime(time_format)).transpose(), \n",
    "                columns = sample_cols, \n",
    "                index = pd.bdate_range(sample_start_date, fixing_date, name = \"date\")) for i in range(Nsim)]\n",
    "    for i in range(Nsim):\n",
    "        samples[i][\"index\"] = i\n",
    "    samples_df = pd.concat(samples)\n",
    "    multassetGBM.change_back_price(price_change_asset, cur_date, h)\n",
    "    samples_df.to_csv(\"tmp.csv\")\n",
    "\n",
    "    df_init_price = pd.Series(stock_init_price)\n",
    "    df_convert = pd.Series(stock_ratio)\n",
    "\n",
    "    cur_date = cur_date + pd.Timedelta(days = 1)\n",
    "    sim_df = pd.read_csv(\"tmp.csv\")\n",
    "\n",
    "    v_date = final_redemption_date\n",
    "    v_price = get_sim_noncallable_price(sim_df) + denomination * coupon_rate\n",
    "    cur_date = sim_df.date.min()\n",
    "    interest_rate_date = cur_date # TODO: hardcode (should be fine)\n",
    "    for i in range(len(exercise_dates) - 1, -1, -1):\n",
    "        exercise_date = exercise_dates[i]\n",
    "        if cur_date < exercise_date:\n",
    "            redemption_date = early_redemption_dates[i]\n",
    "            v_price = get_v_backward(sim_df, exercise_date, redemption_date, v_price, v_date)\n",
    "            v_date = redemption_date\n",
    "    v_0_price = v_price.apply(lambda x: get_product_price(x, cur_date, next_date= v_date))\n",
    "    return v_0_price"
   ]
  },
  {
   "cell_type": "code",
   "execution_count": 38,
   "metadata": {},
   "outputs": [],
   "source": [
    "price_change_asset = \"GOOGL UW Equity\"\n",
    "Nsim = 1000"
   ]
  },
  {
   "cell_type": "code",
   "execution_count": 39,
   "metadata": {},
   "outputs": [],
   "source": [
    "h = 0.5"
   ]
  },
  {
   "cell_type": "code",
   "execution_count": 41,
   "metadata": {},
   "outputs": [],
   "source": [
    "v_0_price_0 = get_v_0_series(price_change_asset, 0)\n",
    "v_0_price_minus = get_v_0_series(price_change_asset, -h)\n",
    "v_0_price_plus = get_v_0_series(price_change_asset, h)"
   ]
  },
  {
   "cell_type": "code",
   "execution_count": 42,
   "metadata": {},
   "outputs": [],
   "source": [
    "def get_delta(v_0_price_minus, v_0_price_plus, h):\n",
    "    return (v_0_price_plus - v_0_price_minus).mean() / (2 * np.abs(h))\n",
    "\n",
    "def get_gamma(v_0_price_minus, v_0_price_plus,v_0_price_0, h):\n",
    "    return (v_0_price_plus - 2 * v_0_price_0 + v_0_price_minus).mean() / (np.abs(h) ** 2)\n"
   ]
  },
  {
   "cell_type": "code",
   "execution_count": 43,
   "metadata": {},
   "outputs": [
    {
     "data": {
      "text/plain": [
       "(37.077599787805376, 28.622515272149016)"
      ]
     },
     "execution_count": 43,
     "metadata": {},
     "output_type": "execute_result"
    }
   ],
   "source": [
    "get_delta(v_0_price_minus, v_0_price_plus, h), get_gamma(v_0_price_minus, v_0_price_plus,v_0_price_0, h)"
   ]
  },
  {
   "cell_type": "code",
   "execution_count": null,
   "metadata": {},
   "outputs": [],
   "source": []
  }
 ],
 "metadata": {
  "kernelspec": {
   "display_name": "Python 3.9.7 ('tf_gpu')",
   "language": "python",
   "name": "python3"
  },
  "language_info": {
   "codemirror_mode": {
    "name": "ipython",
    "version": 3
   },
   "file_extension": ".py",
   "mimetype": "text/x-python",
   "name": "python",
   "nbconvert_exporter": "python",
   "pygments_lexer": "ipython3",
   "version": "3.9.7"
  },
  "orig_nbformat": 4,
  "vscode": {
   "interpreter": {
    "hash": "7bc5d2492bedd2112def6da40386b14ff447bab14dd7c03f73546c8039a32ba6"
   }
  }
 },
 "nbformat": 4,
 "nbformat_minor": 2
}
