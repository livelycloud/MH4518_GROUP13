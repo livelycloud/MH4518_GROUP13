{
 "cells": [
  {
   "cell_type": "code",
   "execution_count": 1,
   "metadata": {},
   "outputs": [],
   "source": [
    "import pandas as pd\n",
    "import numpy as np\n",
    "import matplotlib.pyplot as plt"
   ]
  },
  {
   "cell_type": "code",
   "execution_count": 2,
   "metadata": {},
   "outputs": [
    {
     "data": {
      "text/html": [
       "<div>\n",
       "<style scoped>\n",
       "    .dataframe tbody tr th:only-of-type {\n",
       "        vertical-align: middle;\n",
       "    }\n",
       "\n",
       "    .dataframe tbody tr th {\n",
       "        vertical-align: top;\n",
       "    }\n",
       "\n",
       "    .dataframe thead th {\n",
       "        text-align: right;\n",
       "    }\n",
       "</style>\n",
       "<table border=\"1\" class=\"dataframe\">\n",
       "  <thead>\n",
       "    <tr style=\"text-align: right;\">\n",
       "      <th></th>\n",
       "      <th>Dates</th>\n",
       "      <th>GOOGL UW Equity</th>\n",
       "      <th>MSFT UW Equity</th>\n",
       "      <th>AAPL UW Equity</th>\n",
       "    </tr>\n",
       "  </thead>\n",
       "  <tbody>\n",
       "    <tr>\n",
       "      <th>0</th>\n",
       "      <td>2/10/2017</td>\n",
       "      <td>48.374</td>\n",
       "      <td>70.1074</td>\n",
       "      <td>36.494</td>\n",
       "    </tr>\n",
       "    <tr>\n",
       "      <th>1</th>\n",
       "      <td>3/10/2017</td>\n",
       "      <td>48.604</td>\n",
       "      <td>69.7785</td>\n",
       "      <td>36.653</td>\n",
       "    </tr>\n",
       "    <tr>\n",
       "      <th>2</th>\n",
       "      <td>4/10/2017</td>\n",
       "      <td>48.339</td>\n",
       "      <td>70.1826</td>\n",
       "      <td>36.416</td>\n",
       "    </tr>\n",
       "    <tr>\n",
       "      <th>3</th>\n",
       "      <td>5/10/2017</td>\n",
       "      <td>49.260</td>\n",
       "      <td>71.3853</td>\n",
       "      <td>36.869</td>\n",
       "    </tr>\n",
       "    <tr>\n",
       "      <th>4</th>\n",
       "      <td>6/10/2017</td>\n",
       "      <td>49.682</td>\n",
       "      <td>71.4135</td>\n",
       "      <td>36.847</td>\n",
       "    </tr>\n",
       "  </tbody>\n",
       "</table>\n",
       "</div>"
      ],
      "text/plain": [
       "       Dates  GOOGL UW Equity  MSFT UW Equity  AAPL UW Equity\n",
       "0  2/10/2017           48.374         70.1074          36.494\n",
       "1  3/10/2017           48.604         69.7785          36.653\n",
       "2  4/10/2017           48.339         70.1826          36.416\n",
       "3  5/10/2017           49.260         71.3853          36.869\n",
       "4  6/10/2017           49.682         71.4135          36.847"
      ]
     },
     "execution_count": 2,
     "metadata": {},
     "output_type": "execute_result"
    }
   ],
   "source": [
    "fixing_date = \"2023-07-26\"\n",
    "time_format = \"%Y-%m-%d\"\n",
    "asset_names = [\"GOOGL UW Equity\", \"MSFT UW Equity\", \"AAPL UW Equity\"]\n",
    "df = pd.read_csv(\"stock_historical_prices.csv\")\n",
    "df.head(5)"
   ]
  },
  {
   "cell_type": "code",
   "execution_count": null,
   "metadata": {},
   "outputs": [],
   "source": []
  },
  {
   "cell_type": "code",
   "execution_count": 3,
   "metadata": {},
   "outputs": [],
   "source": [
    "from datetime import datetime\n",
    "def preprocess_date(df):\n",
    "   df[\"date\"] = pd.to_datetime(df[\"Dates\"], format = \"%d/%m/%Y\")\n",
    "\n",
    "\n",
    "def calculate_returns(df, asset_names):\n",
    "   for asset_name in asset_names:\n",
    "      calculate_return(df, asset_name)\n",
    "\n",
    "def calculate_return(df, asset_name: str):\n",
    "   df[asset_name + \"_return\"] = np.log(df[asset_name] / df[asset_name].shift(1))\n"
   ]
  },
  {
   "cell_type": "code",
   "execution_count": 4,
   "metadata": {},
   "outputs": [],
   "source": [
    "preprocess_date(df)\n",
    "calculate_returns(df, [\"GOOGL UW Equity\", \"MSFT UW Equity\", \"AAPL UW Equity\"])"
   ]
  },
  {
   "cell_type": "code",
   "execution_count": 5,
   "metadata": {},
   "outputs": [
    {
     "data": {
      "text/html": [
       "<div>\n",
       "<style scoped>\n",
       "    .dataframe tbody tr th:only-of-type {\n",
       "        vertical-align: middle;\n",
       "    }\n",
       "\n",
       "    .dataframe tbody tr th {\n",
       "        vertical-align: top;\n",
       "    }\n",
       "\n",
       "    .dataframe thead th {\n",
       "        text-align: right;\n",
       "    }\n",
       "</style>\n",
       "<table border=\"1\" class=\"dataframe\">\n",
       "  <thead>\n",
       "    <tr style=\"text-align: right;\">\n",
       "      <th></th>\n",
       "      <th>Dates</th>\n",
       "      <th>GOOGL UW Equity</th>\n",
       "      <th>MSFT UW Equity</th>\n",
       "      <th>AAPL UW Equity</th>\n",
       "      <th>date</th>\n",
       "      <th>GOOGL UW Equity_return</th>\n",
       "      <th>MSFT UW Equity_return</th>\n",
       "      <th>AAPL UW Equity_return</th>\n",
       "    </tr>\n",
       "  </thead>\n",
       "  <tbody>\n",
       "    <tr>\n",
       "      <th>0</th>\n",
       "      <td>2/10/2017</td>\n",
       "      <td>48.374</td>\n",
       "      <td>70.1074</td>\n",
       "      <td>36.494</td>\n",
       "      <td>2017-10-02</td>\n",
       "      <td>NaN</td>\n",
       "      <td>NaN</td>\n",
       "      <td>NaN</td>\n",
       "    </tr>\n",
       "    <tr>\n",
       "      <th>1</th>\n",
       "      <td>3/10/2017</td>\n",
       "      <td>48.604</td>\n",
       "      <td>69.7785</td>\n",
       "      <td>36.653</td>\n",
       "      <td>2017-10-03</td>\n",
       "      <td>0.004743</td>\n",
       "      <td>-0.004702</td>\n",
       "      <td>0.004347</td>\n",
       "    </tr>\n",
       "    <tr>\n",
       "      <th>2</th>\n",
       "      <td>4/10/2017</td>\n",
       "      <td>48.339</td>\n",
       "      <td>70.1826</td>\n",
       "      <td>36.416</td>\n",
       "      <td>2017-10-04</td>\n",
       "      <td>-0.005467</td>\n",
       "      <td>0.005774</td>\n",
       "      <td>-0.006487</td>\n",
       "    </tr>\n",
       "    <tr>\n",
       "      <th>3</th>\n",
       "      <td>5/10/2017</td>\n",
       "      <td>49.260</td>\n",
       "      <td>71.3853</td>\n",
       "      <td>36.869</td>\n",
       "      <td>2017-10-05</td>\n",
       "      <td>0.018874</td>\n",
       "      <td>0.016992</td>\n",
       "      <td>0.012363</td>\n",
       "    </tr>\n",
       "    <tr>\n",
       "      <th>4</th>\n",
       "      <td>6/10/2017</td>\n",
       "      <td>49.682</td>\n",
       "      <td>71.4135</td>\n",
       "      <td>36.847</td>\n",
       "      <td>2017-10-06</td>\n",
       "      <td>0.008530</td>\n",
       "      <td>0.000395</td>\n",
       "      <td>-0.000597</td>\n",
       "    </tr>\n",
       "    <tr>\n",
       "      <th>...</th>\n",
       "      <td>...</td>\n",
       "      <td>...</td>\n",
       "      <td>...</td>\n",
       "      <td>...</td>\n",
       "      <td>...</td>\n",
       "      <td>...</td>\n",
       "      <td>...</td>\n",
       "      <td>...</td>\n",
       "    </tr>\n",
       "    <tr>\n",
       "      <th>1322</th>\n",
       "      <td>26/10/2022</td>\n",
       "      <td>94.930</td>\n",
       "      <td>231.3200</td>\n",
       "      <td>149.350</td>\n",
       "      <td>2022-10-26</td>\n",
       "      <td>-0.095856</td>\n",
       "      <td>-0.080295</td>\n",
       "      <td>-0.019822</td>\n",
       "    </tr>\n",
       "    <tr>\n",
       "      <th>1323</th>\n",
       "      <td>27/10/2022</td>\n",
       "      <td>92.220</td>\n",
       "      <td>226.7500</td>\n",
       "      <td>144.800</td>\n",
       "      <td>2022-10-27</td>\n",
       "      <td>-0.028963</td>\n",
       "      <td>-0.019954</td>\n",
       "      <td>-0.030939</td>\n",
       "    </tr>\n",
       "    <tr>\n",
       "      <th>1324</th>\n",
       "      <td>28/10/2022</td>\n",
       "      <td>96.290</td>\n",
       "      <td>235.8700</td>\n",
       "      <td>155.740</td>\n",
       "      <td>2022-10-28</td>\n",
       "      <td>0.043187</td>\n",
       "      <td>0.039433</td>\n",
       "      <td>0.072834</td>\n",
       "    </tr>\n",
       "    <tr>\n",
       "      <th>1325</th>\n",
       "      <td>31/10/2022</td>\n",
       "      <td>94.510</td>\n",
       "      <td>232.1300</td>\n",
       "      <td>153.340</td>\n",
       "      <td>2022-10-31</td>\n",
       "      <td>-0.018659</td>\n",
       "      <td>-0.015983</td>\n",
       "      <td>-0.015530</td>\n",
       "    </tr>\n",
       "    <tr>\n",
       "      <th>1326</th>\n",
       "      <td>1/11/2022</td>\n",
       "      <td>94.510</td>\n",
       "      <td>232.1300</td>\n",
       "      <td>153.340</td>\n",
       "      <td>2022-11-01</td>\n",
       "      <td>0.000000</td>\n",
       "      <td>0.000000</td>\n",
       "      <td>0.000000</td>\n",
       "    </tr>\n",
       "  </tbody>\n",
       "</table>\n",
       "<p>1327 rows × 8 columns</p>\n",
       "</div>"
      ],
      "text/plain": [
       "           Dates  GOOGL UW Equity  MSFT UW Equity  AAPL UW Equity       date  \\\n",
       "0      2/10/2017           48.374         70.1074          36.494 2017-10-02   \n",
       "1      3/10/2017           48.604         69.7785          36.653 2017-10-03   \n",
       "2      4/10/2017           48.339         70.1826          36.416 2017-10-04   \n",
       "3      5/10/2017           49.260         71.3853          36.869 2017-10-05   \n",
       "4      6/10/2017           49.682         71.4135          36.847 2017-10-06   \n",
       "...          ...              ...             ...             ...        ...   \n",
       "1322  26/10/2022           94.930        231.3200         149.350 2022-10-26   \n",
       "1323  27/10/2022           92.220        226.7500         144.800 2022-10-27   \n",
       "1324  28/10/2022           96.290        235.8700         155.740 2022-10-28   \n",
       "1325  31/10/2022           94.510        232.1300         153.340 2022-10-31   \n",
       "1326   1/11/2022           94.510        232.1300         153.340 2022-11-01   \n",
       "\n",
       "      GOOGL UW Equity_return  MSFT UW Equity_return  AAPL UW Equity_return  \n",
       "0                        NaN                    NaN                    NaN  \n",
       "1                   0.004743              -0.004702               0.004347  \n",
       "2                  -0.005467               0.005774              -0.006487  \n",
       "3                   0.018874               0.016992               0.012363  \n",
       "4                   0.008530               0.000395              -0.000597  \n",
       "...                      ...                    ...                    ...  \n",
       "1322               -0.095856              -0.080295              -0.019822  \n",
       "1323               -0.028963              -0.019954              -0.030939  \n",
       "1324                0.043187               0.039433               0.072834  \n",
       "1325               -0.018659              -0.015983              -0.015530  \n",
       "1326                0.000000               0.000000               0.000000  \n",
       "\n",
       "[1327 rows x 8 columns]"
      ]
     },
     "execution_count": 5,
     "metadata": {},
     "output_type": "execute_result"
    }
   ],
   "source": [
    "df"
   ]
  },
  {
   "cell_type": "markdown",
   "metadata": {},
   "source": [
    "## Abstract modelling class"
   ]
  },
  {
   "cell_type": "code",
   "execution_count": 6,
   "metadata": {},
   "outputs": [],
   "source": [
    "from asset_model import AssetModel"
   ]
  },
  {
   "cell_type": "markdown",
   "metadata": {},
   "source": [
    "## SingleAssetGBM"
   ]
  },
  {
   "cell_type": "code",
   "execution_count": 7,
   "metadata": {},
   "outputs": [],
   "source": [
    "from single_asset_GBM import SingleAssetGBM"
   ]
  },
  {
   "cell_type": "code",
   "execution_count": 8,
   "metadata": {},
   "outputs": [],
   "source": [
    "google = SingleAssetGBM(df, fixing_date, \"GOOGL UW Equity\")"
   ]
  },
  {
   "cell_type": "code",
   "execution_count": 9,
   "metadata": {},
   "outputs": [
    {
     "name": "stdout",
     "output_type": "stream",
     "text": [
      "-1.04104015653542\n"
     ]
    },
    {
     "data": {
      "text/plain": [
       "0.8485891197277096"
      ]
     },
     "execution_count": 9,
     "metadata": {},
     "output_type": "execute_result"
    }
   ],
   "source": [
    "cur_date = \"2022-07-21\"\n",
    "google.get_predict_price(cur_date)"
   ]
  },
  {
   "cell_type": "code",
   "execution_count": 10,
   "metadata": {},
   "outputs": [
    {
     "data": {
      "text/plain": [
       "(0.0006865235327487374, 0.0006865235327487374, 0.0185005775171534)"
      ]
     },
     "execution_count": 10,
     "metadata": {},
     "output_type": "execute_result"
    }
   ],
   "source": [
    "google.r, google.v, google.sigma"
   ]
  },
  {
   "cell_type": "code",
   "execution_count": 11,
   "metadata": {},
   "outputs": [
    {
     "data": {
      "text/plain": [
       "1.98632854661763"
      ]
     },
     "execution_count": 11,
     "metadata": {},
     "output_type": "execute_result"
    }
   ],
   "source": [
    "(1 + 0.0006865235327487374) ** 1000"
   ]
  },
  {
   "cell_type": "code",
   "execution_count": 12,
   "metadata": {},
   "outputs": [
    {
     "data": {
      "text/plain": [
       "<AxesSubplot:>"
      ]
     },
     "execution_count": 12,
     "metadata": {},
     "output_type": "execute_result"
    },
    {
     "data": {
      "image/png": "[encoded data removed]",
      "text/plain": [
       "<Figure size 432x288 with 1 Axes>"
      ]
     },
     "metadata": {
      "needs_background": "light"
     },
     "output_type": "display_data"
    }
   ],
   "source": [
    "google.get_path(cur_date).plot()"
   ]
  },
  {
   "cell_type": "markdown",
   "metadata": {},
   "source": [
    "## MultiAssetGBM"
   ]
  },
  {
   "cell_type": "code",
   "execution_count": 13,
   "metadata": {},
   "outputs": [],
   "source": [
    "from multi_asset_GBM import MultiAssetGBM"
   ]
  },
  {
   "cell_type": "code",
   "execution_count": 14,
   "metadata": {},
   "outputs": [],
   "source": [
    "multassetGBM = MultiAssetGBM(df, fixing_date, asset_names)"
   ]
  },
  {
   "cell_type": "code",
   "execution_count": 15,
   "metadata": {},
   "outputs": [
    {
     "name": "stdout",
     "output_type": "stream",
     "text": [
      "[ 0.7021205  -0.66331025 -0.5675375 ]\n"
     ]
    },
    {
     "data": {
      "text/plain": [
       "GOOGL UW Equity_return    136.096114\n",
       "MSFT UW Equity_return     345.950194\n",
       "AAPL UW Equity_return     208.062303\n",
       "dtype: object"
      ]
     },
     "execution_count": 15,
     "metadata": {},
     "output_type": "execute_result"
    }
   ],
   "source": [
    "\n",
    "multassetGBM.get_predict_price(cur_date)"
   ]
  },
  {
   "cell_type": "code",
   "execution_count": 16,
   "metadata": {},
   "outputs": [
    {
     "data": {
      "text/html": [
       "<div>\n",
       "<style scoped>\n",
       "    .dataframe tbody tr th:only-of-type {\n",
       "        vertical-align: middle;\n",
       "    }\n",
       "\n",
       "    .dataframe tbody tr th {\n",
       "        vertical-align: top;\n",
       "    }\n",
       "\n",
       "    .dataframe thead th {\n",
       "        text-align: right;\n",
       "    }\n",
       "</style>\n",
       "<table border=\"1\" class=\"dataframe\">\n",
       "  <thead>\n",
       "    <tr style=\"text-align: right;\">\n",
       "      <th></th>\n",
       "      <th>GOOGL UW Equity_return</th>\n",
       "      <th>MSFT UW Equity_return</th>\n",
       "      <th>AAPL UW Equity_return</th>\n",
       "    </tr>\n",
       "  </thead>\n",
       "  <tbody>\n",
       "    <tr>\n",
       "      <th>GOOGL UW Equity_return</th>\n",
       "      <td>0.018508</td>\n",
       "      <td>0.016499</td>\n",
       "      <td>0.016049</td>\n",
       "    </tr>\n",
       "    <tr>\n",
       "      <th>MSFT UW Equity_return</th>\n",
       "      <td>0.016499</td>\n",
       "      <td>0.018544</td>\n",
       "      <td>0.016883</td>\n",
       "    </tr>\n",
       "    <tr>\n",
       "      <th>AAPL UW Equity_return</th>\n",
       "      <td>0.016049</td>\n",
       "      <td>0.016883</td>\n",
       "      <td>0.020146</td>\n",
       "    </tr>\n",
       "  </tbody>\n",
       "</table>\n",
       "</div>"
      ],
      "text/plain": [
       "                        GOOGL UW Equity_return  MSFT UW Equity_return  \\\n",
       "GOOGL UW Equity_return                0.018508               0.016499   \n",
       "MSFT UW Equity_return                 0.016499               0.018544   \n",
       "AAPL UW Equity_return                 0.016049               0.016883   \n",
       "\n",
       "                        AAPL UW Equity_return  \n",
       "GOOGL UW Equity_return               0.016049  \n",
       "MSFT UW Equity_return                0.016883  \n",
       "AAPL UW Equity_return                0.020146  "
      ]
     },
     "execution_count": 16,
     "metadata": {},
     "output_type": "execute_result"
    }
   ],
   "source": [
    "multassetGBM.sigma"
   ]
  },
  {
   "cell_type": "code",
   "execution_count": 17,
   "metadata": {},
   "outputs": [
    {
     "data": {
      "text/plain": [
       "<AxesSubplot:xlabel='date'>"
      ]
     },
     "execution_count": 17,
     "metadata": {},
     "output_type": "execute_result"
    },
    {
     "data": {
      "image/png": "[encoded data removed]",
      "text/plain": [
       "<Figure size 432x288 with 1 Axes>"
      ]
     },
     "metadata": {
      "needs_background": "light"
     },
     "output_type": "display_data"
    }
   ],
   "source": [
    "multassetGBM.df.plot()"
   ]
  },
  {
   "cell_type": "code",
   "execution_count": 18,
   "metadata": {},
   "outputs": [
    {
     "data": {
      "text/plain": [
       "<AxesSubplot:>"
      ]
     },
     "execution_count": 18,
     "metadata": {},
     "output_type": "execute_result"
    },
    {
     "data": {
      "image/png": "[encoded data removed]",
      "text/plain": [
       "<Figure size 432x288 with 1 Axes>"
      ]
     },
     "metadata": {
      "needs_background": "light"
     },
     "output_type": "display_data"
    }
   ],
   "source": [
    "pd.DataFrame(multassetGBM.get_path(cur_date)).transpose().plot()"
   ]
  },
  {
   "cell_type": "code",
   "execution_count": 19,
   "metadata": {},
   "outputs": [
    {
     "data": {
      "text/plain": [
       "array([[114.34, 0, 0],\n",
       "       [0, 264.2791, 0],\n",
       "       [0, 0, 155.135]], dtype=object)"
      ]
     },
     "execution_count": 19,
     "metadata": {},
     "output_type": "execute_result"
    }
   ],
   "source": [
    "np.diag(multassetGBM.s_0)"
   ]
  },
  {
   "cell_type": "code",
   "execution_count": 20,
   "metadata": {},
   "outputs": [],
   "source": [
    "w = np.random.normal(0, 1, (multassetGBM.no_of_assets,250))\n",
    "multassetGBM.s_0 = multassetGBM.df.loc[cur_date, multassetGBM.asset_names]\n",
    "return_path = np.exp(np.repeat([multassetGBM.v.values], [250], axis = 0).transpose() + multassetGBM.sigma.transpose().values @  w).cumprod(axis = 1)"
   ]
  },
  {
   "cell_type": "code",
   "execution_count": 21,
   "metadata": {},
   "outputs": [
    {
     "data": {
      "text/plain": [
       "(3, 250)"
      ]
     },
     "execution_count": 21,
     "metadata": {},
     "output_type": "execute_result"
    }
   ],
   "source": [
    "return_path.shape"
   ]
  },
  {
   "cell_type": "code",
   "execution_count": 22,
   "metadata": {},
   "outputs": [
    {
     "data": {
      "text/plain": [
       "'2022-07-21'"
      ]
     },
     "execution_count": 22,
     "metadata": {},
     "output_type": "execute_result"
    }
   ],
   "source": [
    "cur_date"
   ]
  },
  {
   "cell_type": "code",
   "execution_count": 23,
   "metadata": {},
   "outputs": [],
   "source": [
    "sample_cols = [\"GOOGL\", \"MSFT\", \"AAPL\"]\n",
    "multassetGBM.set_start_date(\"2022-01-01\")\n",
    "sample_df = pd.DataFrame(multassetGBM.get_path(cur_date).transpose(), columns = sample_cols, index = pd.bdate_range('2022-07-22', fixing_date, name = \"date\"))"
   ]
  },
  {
   "cell_type": "code",
   "execution_count": 24,
   "metadata": {},
   "outputs": [
    {
     "data": {
      "text/plain": [
       "<AxesSubplot:xlabel='date'>"
      ]
     },
     "execution_count": 24,
     "metadata": {},
     "output_type": "execute_result"
    },
    {
     "data": {
      "image/png": "[encoded data removed]",
      "text/plain": [
       "<Figure size 432x288 with 1 Axes>"
      ]
     },
     "metadata": {
      "needs_background": "light"
     },
     "output_type": "display_data"
    }
   ],
   "source": [
    "sample_df.plot()"
   ]
  },
  {
   "cell_type": "code",
   "execution_count": 25,
   "metadata": {},
   "outputs": [],
   "source": [
    "# sample_df.to_csv(\"../generated_data/sample_path.csv\")"
   ]
  },
  {
   "cell_type": "markdown",
   "metadata": {},
   "source": [
    "## Generate Sample data (Nsim)"
   ]
  },
  {
   "cell_type": "code",
   "execution_count": 31,
   "metadata": {},
   "outputs": [],
   "source": [
    "\n",
    "Nsim = 1000\n",
    "samples = [pd.DataFrame(multassetGBM.get_path(cur_date).transpose(), columns = sample_cols, index = pd.bdate_range('2022-07-22', fixing_date, name = \"date\")) for i in range(Nsim)]"
   ]
  },
  {
   "cell_type": "code",
   "execution_count": 39,
   "metadata": {},
   "outputs": [
    {
     "data": {
      "text/plain": [
       "0      1\n",
       "1      1\n",
       "2      1\n",
       "3      1\n",
       "4      1\n",
       "      ..\n",
       "259    1\n",
       "260    1\n",
       "261    1\n",
       "262    1\n",
       "263    1\n",
       "Length: 264, dtype: int64"
      ]
     },
     "execution_count": 39,
     "metadata": {},
     "output_type": "execute_result"
    }
   ],
   "source": [
    "pd.Series([1] * 264)"
   ]
  },
  {
   "cell_type": "code",
   "execution_count": 40,
   "metadata": {},
   "outputs": [],
   "source": [
    "for i in range(Nsim):\n",
    "    samples[i][\"index\"] = i"
   ]
  },
  {
   "cell_type": "code",
   "execution_count": 41,
   "metadata": {},
   "outputs": [],
   "source": [
    "samples_df = pd.concat(samples)"
   ]
  },
  {
   "cell_type": "code",
   "execution_count": 43,
   "metadata": {},
   "outputs": [],
   "source": [
    "samples_df.to_csv(\"../generated_data/sample_sim_1000.csv\")"
   ]
  },
  {
   "cell_type": "code",
   "execution_count": null,
   "metadata": {},
   "outputs": [],
   "source": []
  }
 ],
 "metadata": {
  "kernelspec": {
   "display_name": "Python 3.9.7 64-bit",
   "language": "python",
   "name": "python3"
  },
  "language_info": {
   "codemirror_mode": {
    "name": "ipython",
    "version": 3
   },
   "file_extension": ".py",
   "mimetype": "text/x-python",
   "name": "python",
   "nbconvert_exporter": "python",
   "pygments_lexer": "ipython3",
   "version": "3.9.7"
  },
  "orig_nbformat": 4,
  "vscode": {
   "interpreter": {
    "hash": "b6a3a2766f3b1d94cd0a35ff6b8a311c311896b53a13ac82edd2cb3b944d5a73"
   }
  }
 },
 "nbformat": 4,
 "nbformat_minor": 2
}
