{
 "cells": [
  {
   "cell_type": "code",
   "execution_count": 6,
   "metadata": {},
   "outputs": [],
   "source": [
    "import pandas as pd\n",
    "import numpy as np\n",
    "import matplotlib.pyplot as plt"
   ]
  },
  {
   "cell_type": "code",
   "execution_count": 7,
   "metadata": {},
   "outputs": [
    {
     "data": {
      "text/html": [
       "<div>\n",
       "<style scoped>\n",
       "    .dataframe tbody tr th:only-of-type {\n",
       "        vertical-align: middle;\n",
       "    }\n",
       "\n",
       "    .dataframe tbody tr th {\n",
       "        vertical-align: top;\n",
       "    }\n",
       "\n",
       "    .dataframe thead th {\n",
       "        text-align: right;\n",
       "    }\n",
       "</style>\n",
       "<table border=\"1\" class=\"dataframe\">\n",
       "  <thead>\n",
       "    <tr style=\"text-align: right;\">\n",
       "      <th></th>\n",
       "      <th>Dates</th>\n",
       "      <th>GOOGL UW Equity</th>\n",
       "      <th>MSFT UW Equity</th>\n",
       "      <th>AAPL UW Equity</th>\n",
       "    </tr>\n",
       "  </thead>\n",
       "  <tbody>\n",
       "    <tr>\n",
       "      <th>0</th>\n",
       "      <td>2/10/2017</td>\n",
       "      <td>48.374</td>\n",
       "      <td>70.1074</td>\n",
       "      <td>36.494</td>\n",
       "    </tr>\n",
       "    <tr>\n",
       "      <th>1</th>\n",
       "      <td>3/10/2017</td>\n",
       "      <td>48.604</td>\n",
       "      <td>69.7785</td>\n",
       "      <td>36.653</td>\n",
       "    </tr>\n",
       "    <tr>\n",
       "      <th>2</th>\n",
       "      <td>4/10/2017</td>\n",
       "      <td>48.339</td>\n",
       "      <td>70.1826</td>\n",
       "      <td>36.416</td>\n",
       "    </tr>\n",
       "    <tr>\n",
       "      <th>3</th>\n",
       "      <td>5/10/2017</td>\n",
       "      <td>49.260</td>\n",
       "      <td>71.3853</td>\n",
       "      <td>36.869</td>\n",
       "    </tr>\n",
       "    <tr>\n",
       "      <th>4</th>\n",
       "      <td>6/10/2017</td>\n",
       "      <td>49.682</td>\n",
       "      <td>71.4135</td>\n",
       "      <td>36.847</td>\n",
       "    </tr>\n",
       "  </tbody>\n",
       "</table>\n",
       "</div>"
      ],
      "text/plain": [
       "       Dates  GOOGL UW Equity  MSFT UW Equity  AAPL UW Equity\n",
       "0  2/10/2017           48.374         70.1074          36.494\n",
       "1  3/10/2017           48.604         69.7785          36.653\n",
       "2  4/10/2017           48.339         70.1826          36.416\n",
       "3  5/10/2017           49.260         71.3853          36.869\n",
       "4  6/10/2017           49.682         71.4135          36.847"
      ]
     },
     "execution_count": 7,
     "metadata": {},
     "output_type": "execute_result"
    }
   ],
   "source": [
    "fixing_date = \"2023-07-26\"\n",
    "time_format = \"%Y-%m-%d\"\n",
    "asset_names = [\"GOOGL UW Equity\", \"MSFT UW Equity\", \"AAPL UW Equity\"]\n",
    "df = pd.read_csv(\"stock_historical_prices.csv\")\n",
    "df.head(5)"
   ]
  },
  {
   "cell_type": "code",
   "execution_count": null,
   "metadata": {},
   "outputs": [],
   "source": []
  },
  {
   "cell_type": "code",
   "execution_count": 8,
   "metadata": {},
   "outputs": [],
   "source": [
    "from datetime import datetime\n",
    "def preprocess_date(df):\n",
    "   df[\"date\"] = pd.to_datetime(df[\"Dates\"], format = \"%d/%m/%Y\")\n",
    "\n",
    "\n",
    "def calculate_returns(df, asset_names):\n",
    "   for asset_name in asset_names:\n",
    "      calculate_return(df, asset_name)\n",
    "\n",
    "def calculate_return(df, asset_name: str):\n",
    "   df[asset_name + \"_return\"] = np.log(df[asset_name] / df[asset_name].shift(1))\n"
   ]
  },
  {
   "cell_type": "code",
   "execution_count": 9,
   "metadata": {},
   "outputs": [],
   "source": [
    "preprocess_date(df)\n",
    "calculate_returns(df, [\"GOOGL UW Equity\", \"MSFT UW Equity\", \"AAPL UW Equity\"])"
   ]
  },
  {
   "cell_type": "code",
   "execution_count": 10,
   "metadata": {},
   "outputs": [
    {
     "data": {
      "text/html": [
       "<div>\n",
       "<style scoped>\n",
       "    .dataframe tbody tr th:only-of-type {\n",
       "        vertical-align: middle;\n",
       "    }\n",
       "\n",
       "    .dataframe tbody tr th {\n",
       "        vertical-align: top;\n",
       "    }\n",
       "\n",
       "    .dataframe thead th {\n",
       "        text-align: right;\n",
       "    }\n",
       "</style>\n",
       "<table border=\"1\" class=\"dataframe\">\n",
       "  <thead>\n",
       "    <tr style=\"text-align: right;\">\n",
       "      <th></th>\n",
       "      <th>Dates</th>\n",
       "      <th>GOOGL UW Equity</th>\n",
       "      <th>MSFT UW Equity</th>\n",
       "      <th>AAPL UW Equity</th>\n",
       "      <th>date</th>\n",
       "      <th>GOOGL UW Equity_return</th>\n",
       "      <th>MSFT UW Equity_return</th>\n",
       "      <th>AAPL UW Equity_return</th>\n",
       "    </tr>\n",
       "  </thead>\n",
       "  <tbody>\n",
       "    <tr>\n",
       "      <th>0</th>\n",
       "      <td>2/10/2017</td>\n",
       "      <td>48.374</td>\n",
       "      <td>70.1074</td>\n",
       "      <td>36.494</td>\n",
       "      <td>2017-10-02</td>\n",
       "      <td>NaN</td>\n",
       "      <td>NaN</td>\n",
       "      <td>NaN</td>\n",
       "    </tr>\n",
       "    <tr>\n",
       "      <th>1</th>\n",
       "      <td>3/10/2017</td>\n",
       "      <td>48.604</td>\n",
       "      <td>69.7785</td>\n",
       "      <td>36.653</td>\n",
       "      <td>2017-10-03</td>\n",
       "      <td>0.004743</td>\n",
       "      <td>-0.004702</td>\n",
       "      <td>0.004347</td>\n",
       "    </tr>\n",
       "    <tr>\n",
       "      <th>2</th>\n",
       "      <td>4/10/2017</td>\n",
       "      <td>48.339</td>\n",
       "      <td>70.1826</td>\n",
       "      <td>36.416</td>\n",
       "      <td>2017-10-04</td>\n",
       "      <td>-0.005467</td>\n",
       "      <td>0.005774</td>\n",
       "      <td>-0.006487</td>\n",
       "    </tr>\n",
       "    <tr>\n",
       "      <th>3</th>\n",
       "      <td>5/10/2017</td>\n",
       "      <td>49.260</td>\n",
       "      <td>71.3853</td>\n",
       "      <td>36.869</td>\n",
       "      <td>2017-10-05</td>\n",
       "      <td>0.018874</td>\n",
       "      <td>0.016992</td>\n",
       "      <td>0.012363</td>\n",
       "    </tr>\n",
       "    <tr>\n",
       "      <th>4</th>\n",
       "      <td>6/10/2017</td>\n",
       "      <td>49.682</td>\n",
       "      <td>71.4135</td>\n",
       "      <td>36.847</td>\n",
       "      <td>2017-10-06</td>\n",
       "      <td>0.008530</td>\n",
       "      <td>0.000395</td>\n",
       "      <td>-0.000597</td>\n",
       "    </tr>\n",
       "    <tr>\n",
       "      <th>...</th>\n",
       "      <td>...</td>\n",
       "      <td>...</td>\n",
       "      <td>...</td>\n",
       "      <td>...</td>\n",
       "      <td>...</td>\n",
       "      <td>...</td>\n",
       "      <td>...</td>\n",
       "      <td>...</td>\n",
       "    </tr>\n",
       "    <tr>\n",
       "      <th>1322</th>\n",
       "      <td>26/10/2022</td>\n",
       "      <td>94.930</td>\n",
       "      <td>231.3200</td>\n",
       "      <td>149.350</td>\n",
       "      <td>2022-10-26</td>\n",
       "      <td>-0.095856</td>\n",
       "      <td>-0.080295</td>\n",
       "      <td>-0.019822</td>\n",
       "    </tr>\n",
       "    <tr>\n",
       "      <th>1323</th>\n",
       "      <td>27/10/2022</td>\n",
       "      <td>92.220</td>\n",
       "      <td>226.7500</td>\n",
       "      <td>144.800</td>\n",
       "      <td>2022-10-27</td>\n",
       "      <td>-0.028963</td>\n",
       "      <td>-0.019954</td>\n",
       "      <td>-0.030939</td>\n",
       "    </tr>\n",
       "    <tr>\n",
       "      <th>1324</th>\n",
       "      <td>28/10/2022</td>\n",
       "      <td>96.290</td>\n",
       "      <td>235.8700</td>\n",
       "      <td>155.740</td>\n",
       "      <td>2022-10-28</td>\n",
       "      <td>0.043187</td>\n",
       "      <td>0.039433</td>\n",
       "      <td>0.072834</td>\n",
       "    </tr>\n",
       "    <tr>\n",
       "      <th>1325</th>\n",
       "      <td>31/10/2022</td>\n",
       "      <td>94.510</td>\n",
       "      <td>232.1300</td>\n",
       "      <td>153.340</td>\n",
       "      <td>2022-10-31</td>\n",
       "      <td>-0.018659</td>\n",
       "      <td>-0.015983</td>\n",
       "      <td>-0.015530</td>\n",
       "    </tr>\n",
       "    <tr>\n",
       "      <th>1326</th>\n",
       "      <td>1/11/2022</td>\n",
       "      <td>94.510</td>\n",
       "      <td>232.1300</td>\n",
       "      <td>153.340</td>\n",
       "      <td>2022-11-01</td>\n",
       "      <td>0.000000</td>\n",
       "      <td>0.000000</td>\n",
       "      <td>0.000000</td>\n",
       "    </tr>\n",
       "  </tbody>\n",
       "</table>\n",
       "<p>1327 rows × 8 columns</p>\n",
       "</div>"
      ],
      "text/plain": [
       "           Dates  GOOGL UW Equity  MSFT UW Equity  AAPL UW Equity       date  \\\n",
       "0      2/10/2017           48.374         70.1074          36.494 2017-10-02   \n",
       "1      3/10/2017           48.604         69.7785          36.653 2017-10-03   \n",
       "2      4/10/2017           48.339         70.1826          36.416 2017-10-04   \n",
       "3      5/10/2017           49.260         71.3853          36.869 2017-10-05   \n",
       "4      6/10/2017           49.682         71.4135          36.847 2017-10-06   \n",
       "...          ...              ...             ...             ...        ...   \n",
       "1322  26/10/2022           94.930        231.3200         149.350 2022-10-26   \n",
       "1323  27/10/2022           92.220        226.7500         144.800 2022-10-27   \n",
       "1324  28/10/2022           96.290        235.8700         155.740 2022-10-28   \n",
       "1325  31/10/2022           94.510        232.1300         153.340 2022-10-31   \n",
       "1326   1/11/2022           94.510        232.1300         153.340 2022-11-01   \n",
       "\n",
       "      GOOGL UW Equity_return  MSFT UW Equity_return  AAPL UW Equity_return  \n",
       "0                        NaN                    NaN                    NaN  \n",
       "1                   0.004743              -0.004702               0.004347  \n",
       "2                  -0.005467               0.005774              -0.006487  \n",
       "3                   0.018874               0.016992               0.012363  \n",
       "4                   0.008530               0.000395              -0.000597  \n",
       "...                      ...                    ...                    ...  \n",
       "1322               -0.095856              -0.080295              -0.019822  \n",
       "1323               -0.028963              -0.019954              -0.030939  \n",
       "1324                0.043187               0.039433               0.072834  \n",
       "1325               -0.018659              -0.015983              -0.015530  \n",
       "1326                0.000000               0.000000               0.000000  \n",
       "\n",
       "[1327 rows x 8 columns]"
      ]
     },
     "execution_count": 10,
     "metadata": {},
     "output_type": "execute_result"
    }
   ],
   "source": [
    "df"
   ]
  },
  {
   "cell_type": "markdown",
   "metadata": {},
   "source": [
    "## Abstract modelling class"
   ]
  },
  {
   "cell_type": "code",
   "execution_count": 11,
   "metadata": {},
   "outputs": [],
   "source": [
    "from abc import ABC, abstractmethod\n",
    "\n",
    "class AssetModel(ABC):\n",
    "\n",
    "    start_date: str\n",
    "    cur_date: str\n",
    "\n",
    "    def __init__(self, df: pd.DataFrame, fixing_date: str):\n",
    "        preprocess_date(df)\n",
    "        self.start_date = df[\"date\"].min()\n",
    "        self.end_date = df[\"date\"].max()\n",
    "        self.df = df.set_index(\"date\")\n",
    "        self.fixing_date = fixing_date\n",
    "\n",
    "    \n",
    "    def set_start_date(self, start_date: str):\n",
    "        self.start_date = start_date\n",
    "\n",
    "    def set_cur_date(self, cur_date: str):\n",
    "        self.cur_date = cur_date\n",
    "    \n",
    "    def fit_date(self, start_date: str, cur_date: str):\n",
    "        data = self.df.loc[start_date:cur_date]\n",
    "        self.fit_model(data)\n",
    "    \n",
    "    @abstractmethod\n",
    "    def fit_model(self, data: pd.DataFrame):\n",
    "        return NotImplemented\n",
    "\n",
    "    @abstractmethod   \n",
    "    def get_predict_price(self, cur_date: str):\n",
    "        return NotImplemented\n",
    "\n",
    "    @abstractmethod\n",
    "    def get_path(self, cur_date: str):\n",
    "        return NotImplemented\n"
   ]
  },
  {
   "cell_type": "markdown",
   "metadata": {},
   "source": [
    "## SingleAssetGBM"
   ]
  },
  {
   "cell_type": "code",
   "execution_count": 12,
   "metadata": {},
   "outputs": [],
   "source": [
    "## Assumption: data is on daily frequence\n",
    "## delta_t = 1\n",
    "class SingleAssetGBM(AssetModel):\n",
    "\n",
    "    asset_name: str\n",
    "    r: float\n",
    "    v: float\n",
    "    sigma: float\n",
    "\n",
    "    def __init__(self, df: pd.DataFrame, fixing_date: str, asset_name):\n",
    "        super().__init__(df, fixing_date)\n",
    "        self.asset_name = asset_name\n",
    "        # self.df = self.df[[\"date\", asset_name]]\n",
    "        calculate_return(self.df, asset_name)\n",
    "\n",
    "\n",
    "    def fit_model(self, data: pd.DataFrame):\n",
    "        self.r = data[self.asset_name + \"_return\"].mean()\n",
    "        self.v = self.r\n",
    "        self.sigma = np.sqrt(1 / (len(data) - 1) * np.sum((data[self.asset_name + \"_return\"] - self.r) ** 2) )\n",
    "\n",
    "\n",
    "    def get_predict_price(self, cur_date: str):\n",
    "        self.set_cur_date(cur_date)\n",
    "        self.fit_date(self.start_date, self.cur_date)\n",
    "        # print(datetime.strptime(self.cur_date, time_format), datetime.strptime(self.fixing_date, time_format))\n",
    "        days = np.busday_count( self.cur_date, self.fixing_date)\n",
    "        \n",
    "        w = np.random.normal(0, 1)\n",
    "        print(w)\n",
    "        return self.df.loc[cur_date, self.asset_name] * np.exp(self.v * days + self.sigma * days * w)\n",
    "\n",
    "\n",
    "    def get_path(self, cur_date: str):\n",
    "        self.set_cur_date(cur_date)\n",
    "        self.fit_date(self.start_date, self.cur_date)\n",
    "        days = np.busday_count( self.cur_date, self.fixing_date)\n",
    "        \n",
    "        w = np.random.normal(0, 1, days)\n",
    "        price_path = pd.Series(np.exp(self.v + self.sigma * w)).cumprod() * self.df.loc[cur_date, self.asset_name]\n",
    "        return price_path"
   ]
  },
  {
   "cell_type": "code",
   "execution_count": 13,
   "metadata": {},
   "outputs": [],
   "source": [
    "google = SingleAssetGBM(df, fixing_date, \"GOOGL UW Equity\")"
   ]
  },
  {
   "cell_type": "code",
   "execution_count": 14,
   "metadata": {},
   "outputs": [
    {
     "name": "stdout",
     "output_type": "stream",
     "text": [
      "0.10057725815909134\n"
     ]
    },
    {
     "data": {
      "text/plain": [
       "224.00163295244417"
      ]
     },
     "execution_count": 14,
     "metadata": {},
     "output_type": "execute_result"
    }
   ],
   "source": [
    "cur_date = \"2022-07-21\"\n",
    "google.get_predict_price(cur_date)"
   ]
  },
  {
   "cell_type": "code",
   "execution_count": 15,
   "metadata": {},
   "outputs": [
    {
     "data": {
      "text/plain": [
       "(0.0006865235327487374, 0.0006865235327487374, 0.0185005775171534)"
      ]
     },
     "execution_count": 15,
     "metadata": {},
     "output_type": "execute_result"
    }
   ],
   "source": [
    "google.r, google.v, google.sigma"
   ]
  },
  {
   "cell_type": "code",
   "execution_count": 16,
   "metadata": {},
   "outputs": [
    {
     "data": {
      "text/plain": [
       "1.98632854661763"
      ]
     },
     "execution_count": 16,
     "metadata": {},
     "output_type": "execute_result"
    }
   ],
   "source": [
    "(1 + 0.0006865235327487374) ** 1000"
   ]
  },
  {
   "cell_type": "code",
   "execution_count": 17,
   "metadata": {},
   "outputs": [
    {
     "data": {
      "text/plain": [
       "<AxesSubplot:>"
      ]
     },
     "execution_count": 17,
     "metadata": {},
     "output_type": "execute_result"
    },
    {
     "data": {
      "image/png": "[encoded data removed]",
      "text/plain": [
       "<Figure size 432x288 with 1 Axes>"
      ]
     },
     "metadata": {
      "needs_background": "light"
     },
     "output_type": "display_data"
    }
   ],
   "source": [
    "google.get_path(cur_date).plot()"
   ]
  },
  {
   "cell_type": "markdown",
   "metadata": {},
   "source": [
    "## MultiAssetGBM"
   ]
  },
  {
   "cell_type": "code",
   "execution_count": 18,
   "metadata": {},
   "outputs": [],
   "source": [
    "## Assumption: data is on daily frequence\n",
    "## delta_t = 1\n",
    "class  MultiAssetGBM(AssetModel):\n",
    "\n",
    "    asset_names: list\n",
    "    r: float\n",
    "    v: float\n",
    "    sigma: float\n",
    "\n",
    "    def __init__(self, df: pd.DataFrame, fixing_date: str, asset_names: list):\n",
    "        super().__init__(df, fixing_date)\n",
    "        self.asset_names = asset_names\n",
    "        calculate_returns(self.df, asset_names)\n",
    "        self.return_names = [x + \"_return\" for x in self.asset_names]\n",
    "        self.no_of_assets = len(self.asset_names)\n",
    "\n",
    "    def fit_model(self, data: pd.DataFrame):\n",
    "        returns = data[self.return_names]\n",
    "        self.r = returns.mean()\n",
    "        self.v = self.r\n",
    "        self.sigma = np.sqrt(returns.cov())\n",
    "\n",
    "\n",
    "    def get_predict_price(self, cur_date: str):\n",
    "        self.set_cur_date(cur_date)\n",
    "        self.fit_date(self.start_date, self.cur_date)\n",
    "        # print(datetime.strptime(self.cur_date, time_format), datetime.strptime(self.fixing_date, time_format))\n",
    "        days = np.busday_count( self.cur_date, self.fixing_date)\n",
    "        \n",
    "        w = np.random.normal(0, 1, self.no_of_assets)\n",
    "        print(w)\n",
    "\n",
    "        self.s_0 = self.df.loc[cur_date, self.asset_names]\n",
    "\n",
    "        return self.s_0.values * np.exp(self.v * days + self.sigma.transpose() @ w)\n",
    "        \n",
    "\n",
    "    def get_path(self, cur_date: str):\n",
    "        self.set_cur_date(cur_date)\n",
    "        self.fit_date(self.start_date, self.cur_date)\n",
    "        days = np.busday_count( self.cur_date, self.fixing_date)\n",
    "        \n",
    "        w = np.random.normal(0, 1, (self.no_of_assets, days))\n",
    "        self.s_0 = self.df.loc[cur_date, self.asset_names]\n",
    "        return_path =np.exp(np.repeat([self.v.values], [days], axis = 0).transpose() + self.sigma.transpose().values @  w).cumprod(axis = 1)\n",
    "        price_path = np.diag(self.s_0) @ return_path\n",
    "        return price_path"
   ]
  },
  {
   "cell_type": "code",
   "execution_count": 19,
   "metadata": {},
   "outputs": [],
   "source": [
    "multassetGBM = MultiAssetGBM(df, fixing_date, asset_names)"
   ]
  },
  {
   "cell_type": "code",
   "execution_count": 20,
   "metadata": {},
   "outputs": [
    {
     "name": "stdout",
     "output_type": "stream",
     "text": [
      "[ 0.64292116  0.02214466 -1.75882868]\n"
     ]
    },
    {
     "data": {
      "text/plain": [
       "GOOGL UW Equity_return    134.889493\n",
       "MSFT UW Equity_return     343.063929\n",
       "AAPL UW Equity_return     205.297345\n",
       "dtype: object"
      ]
     },
     "execution_count": 20,
     "metadata": {},
     "output_type": "execute_result"
    }
   ],
   "source": [
    "\n",
    "multassetGBM.get_predict_price(cur_date)"
   ]
  },
  {
   "cell_type": "code",
   "execution_count": 21,
   "metadata": {},
   "outputs": [
    {
     "data": {
      "text/html": [
       "<div>\n",
       "<style scoped>\n",
       "    .dataframe tbody tr th:only-of-type {\n",
       "        vertical-align: middle;\n",
       "    }\n",
       "\n",
       "    .dataframe tbody tr th {\n",
       "        vertical-align: top;\n",
       "    }\n",
       "\n",
       "    .dataframe thead th {\n",
       "        text-align: right;\n",
       "    }\n",
       "</style>\n",
       "<table border=\"1\" class=\"dataframe\">\n",
       "  <thead>\n",
       "    <tr style=\"text-align: right;\">\n",
       "      <th></th>\n",
       "      <th>GOOGL UW Equity_return</th>\n",
       "      <th>MSFT UW Equity_return</th>\n",
       "      <th>AAPL UW Equity_return</th>\n",
       "    </tr>\n",
       "  </thead>\n",
       "  <tbody>\n",
       "    <tr>\n",
       "      <th>GOOGL UW Equity_return</th>\n",
       "      <td>0.018508</td>\n",
       "      <td>0.016499</td>\n",
       "      <td>0.016049</td>\n",
       "    </tr>\n",
       "    <tr>\n",
       "      <th>MSFT UW Equity_return</th>\n",
       "      <td>0.016499</td>\n",
       "      <td>0.018544</td>\n",
       "      <td>0.016883</td>\n",
       "    </tr>\n",
       "    <tr>\n",
       "      <th>AAPL UW Equity_return</th>\n",
       "      <td>0.016049</td>\n",
       "      <td>0.016883</td>\n",
       "      <td>0.020146</td>\n",
       "    </tr>\n",
       "  </tbody>\n",
       "</table>\n",
       "</div>"
      ],
      "text/plain": [
       "                        GOOGL UW Equity_return  MSFT UW Equity_return  \\\n",
       "GOOGL UW Equity_return                0.018508               0.016499   \n",
       "MSFT UW Equity_return                 0.016499               0.018544   \n",
       "AAPL UW Equity_return                 0.016049               0.016883   \n",
       "\n",
       "                        AAPL UW Equity_return  \n",
       "GOOGL UW Equity_return               0.016049  \n",
       "MSFT UW Equity_return                0.016883  \n",
       "AAPL UW Equity_return                0.020146  "
      ]
     },
     "execution_count": 21,
     "metadata": {},
     "output_type": "execute_result"
    }
   ],
   "source": [
    "multassetGBM.sigma"
   ]
  },
  {
   "cell_type": "code",
   "execution_count": 22,
   "metadata": {},
   "outputs": [
    {
     "data": {
      "text/plain": [
       "<AxesSubplot:xlabel='date'>"
      ]
     },
     "execution_count": 22,
     "metadata": {},
     "output_type": "execute_result"
    },
    {
     "data": {
      "image/png": "[encoded data removed]",
      "text/plain": [
       "<Figure size 432x288 with 1 Axes>"
      ]
     },
     "metadata": {
      "needs_background": "light"
     },
     "output_type": "display_data"
    }
   ],
   "source": [
    "multassetGBM.df.plot()"
   ]
  },
  {
   "cell_type": "code",
   "execution_count": 23,
   "metadata": {},
   "outputs": [
    {
     "data": {
      "text/plain": [
       "<AxesSubplot:>"
      ]
     },
     "execution_count": 23,
     "metadata": {},
     "output_type": "execute_result"
    },
    {
     "data": {
      "image/png": "[encoded data removed]",
      "text/plain": [
       "<Figure size 432x288 with 1 Axes>"
      ]
     },
     "metadata": {
      "needs_background": "light"
     },
     "output_type": "display_data"
    }
   ],
   "source": [
    "pd.DataFrame(multassetGBM.get_path(cur_date)).transpose().plot()"
   ]
  },
  {
   "cell_type": "code",
   "execution_count": 24,
   "metadata": {},
   "outputs": [
    {
     "data": {
      "text/plain": [
       "array([[114.34, 0, 0],\n",
       "       [0, 264.2791, 0],\n",
       "       [0, 0, 155.135]], dtype=object)"
      ]
     },
     "execution_count": 24,
     "metadata": {},
     "output_type": "execute_result"
    }
   ],
   "source": [
    "np.diag(multassetGBM.s_0)"
   ]
  },
  {
   "cell_type": "code",
   "execution_count": 25,
   "metadata": {},
   "outputs": [],
   "source": [
    "w = np.random.normal(0, 1, (multassetGBM.no_of_assets,250))\n",
    "multassetGBM.s_0 = multassetGBM.df.loc[cur_date, multassetGBM.asset_names]\n",
    "return_path = np.exp(np.repeat([multassetGBM.v.values], [250], axis = 0).transpose() + multassetGBM.sigma.transpose().values @  w).cumprod(axis = 1)"
   ]
  },
  {
   "cell_type": "code",
   "execution_count": 26,
   "metadata": {},
   "outputs": [
    {
     "data": {
      "text/plain": [
       "(3, 250)"
      ]
     },
     "execution_count": 26,
     "metadata": {},
     "output_type": "execute_result"
    }
   ],
   "source": [
    "return_path.shape"
   ]
  },
  {
   "cell_type": "code",
   "execution_count": 35,
   "metadata": {},
   "outputs": [
    {
     "data": {
      "text/plain": [
       "'2022-07-21'"
      ]
     },
     "execution_count": 35,
     "metadata": {},
     "output_type": "execute_result"
    }
   ],
   "source": [
    "cur_date"
   ]
  },
  {
   "cell_type": "code",
   "execution_count": 58,
   "metadata": {},
   "outputs": [],
   "source": [
    "sample_cols = [\"GOOGL\", \"MSFT\", \"AAPL\"]\n",
    "multassetGBM.set_start_date(\"2022-01-01\")\n",
    "sample_df = pd.DataFrame(multassetGBM.get_path(cur_date).transpose(), columns = sample_cols, index = pd.bdate_range('2022-07-22', fixing_date, name = \"date\"))"
   ]
  },
  {
   "cell_type": "code",
   "execution_count": 59,
   "metadata": {},
   "outputs": [
    {
     "data": {
      "text/plain": [
       "<AxesSubplot:xlabel='date'>"
      ]
     },
     "execution_count": 59,
     "metadata": {},
     "output_type": "execute_result"
    },
    {
     "data": {
      "image/png": "[encoded data removed]",
      "text/plain": [
       "<Figure size 432x288 with 1 Axes>"
      ]
     },
     "metadata": {
      "needs_background": "light"
     },
     "output_type": "display_data"
    }
   ],
   "source": [
    "sample_df.plot()"
   ]
  },
  {
   "cell_type": "code",
   "execution_count": 60,
   "metadata": {},
   "outputs": [],
   "source": [
    "sample_df.to_csv(\"../generated_data/sample_path.csv\")"
   ]
  },
  {
   "cell_type": "code",
   "execution_count": null,
   "metadata": {},
   "outputs": [],
   "source": []
  }
 ],
 "metadata": {
  "kernelspec": {
   "display_name": "Python 3.9.7 ('tf_gpu')",
   "language": "python",
   "name": "python3"
  },
  "language_info": {
   "codemirror_mode": {
    "name": "ipython",
    "version": 3
   },
   "file_extension": ".py",
   "mimetype": "text/x-python",
   "name": "python",
   "nbconvert_exporter": "python",
   "pygments_lexer": "ipython3",
   "version": "3.9.7"
  },
  "orig_nbformat": 4,
  "vscode": {
   "interpreter": {
    "hash": "7bc5d2492bedd2112def6da40386b14ff447bab14dd7c03f73546c8039a32ba6"
   }
  }
 },
 "nbformat": 4,
 "nbformat_minor": 2
}
