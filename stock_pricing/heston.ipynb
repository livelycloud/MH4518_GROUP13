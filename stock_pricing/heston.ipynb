{
 "cells": [
  {
   "cell_type": "markdown",
   "metadata": {},
   "source": [
    "## Website Example"
   ]
  },
  {
   "cell_type": "markdown",
   "metadata": {},
   "source": [
    "http://gouthamanbalaraman.com/blog/heston-calibration-scipy-optimize-quantlib-python.html"
   ]
  },
  {
   "cell_type": "code",
   "execution_count": 2,
   "metadata": {},
   "outputs": [],
   "source": [
    "import QuantLib as ql\n",
    "from math import pow, sqrt\n",
    "import numpy as np\n",
    "from scipy.optimize import root"
   ]
  },
  {
   "cell_type": "code",
   "execution_count": 3,
   "metadata": {},
   "outputs": [],
   "source": [
    "day_count = ql.Actual365Fixed()\n",
    "calendar = ql.UnitedStates()\n",
    "calculation_date = ql.Date(6, 11, 2015)\n",
    "\n",
    "spot = 659.37\n",
    "ql.Settings.instance().evaluationDate = calculation_date\n",
    "\n",
    "risk_free_rate = 0.01\n",
    "dividend_rate = 0.0\n",
    "yield_ts = ql.YieldTermStructureHandle(\n",
    "    ql.FlatForward(calculation_date, risk_free_rate, day_count))\n",
    "dividend_ts = ql.YieldTermStructureHandle(\n",
    "    ql.FlatForward(calculation_date, dividend_rate, day_count))"
   ]
  },
  {
   "cell_type": "code",
   "execution_count": 4,
   "metadata": {},
   "outputs": [],
   "source": [
    "expiration_dates = [ql.Date(6,12,2015), ql.Date(6,1,2016), ql.Date(6,2,2016),\n",
    "                    ql.Date(6,3,2016), ql.Date(6,4,2016), ql.Date(6,5,2016), \n",
    "                    ql.Date(6,6,2016), ql.Date(6,7,2016), ql.Date(6,8,2016),\n",
    "                    ql.Date(6,9,2016), ql.Date(6,10,2016), ql.Date(6,11,2016), \n",
    "                    ql.Date(6,12,2016), ql.Date(6,1,2017), ql.Date(6,2,2017),\n",
    "                    ql.Date(6,3,2017), ql.Date(6,4,2017), ql.Date(6,5,2017), \n",
    "                    ql.Date(6,6,2017), ql.Date(6,7,2017), ql.Date(6,8,2017),\n",
    "                    ql.Date(6,9,2017), ql.Date(6,10,2017), ql.Date(6,11,2017)]\n",
    "strikes = [527.50, 560.46, 593.43, 626.40, 659.37, 692.34, 725.31, 758.28]\n",
    "data = [\n",
    "[0.37819, 0.34177, 0.30394, 0.27832, 0.26453, 0.25916, 0.25941, 0.26127],\n",
    "[0.3445, 0.31769, 0.2933, 0.27614, 0.26575, 0.25729, 0.25228, 0.25202],\n",
    "[0.37419, 0.35372, 0.33729, 0.32492, 0.31601, 0.30883, 0.30036, 0.29568],\n",
    "[0.37498, 0.35847, 0.34475, 0.33399, 0.32715, 0.31943, 0.31098, 0.30506],\n",
    "[0.35941, 0.34516, 0.33296, 0.32275, 0.31867, 0.30969, 0.30239, 0.29631],\n",
    "[0.35521, 0.34242, 0.33154, 0.3219, 0.31948, 0.31096, 0.30424, 0.2984],\n",
    "[0.35442, 0.34267, 0.33288, 0.32374, 0.32245, 0.31474, 0.30838, 0.30283],\n",
    "[0.35384, 0.34286, 0.33386, 0.32507, 0.3246, 0.31745, 0.31135, 0.306],\n",
    "[0.35338, 0.343, 0.33464, 0.32614, 0.3263, 0.31961, 0.31371, 0.30852],\n",
    "[0.35301, 0.34312, 0.33526, 0.32698, 0.32766, 0.32132, 0.31558, 0.31052],\n",
    "[0.35272, 0.34322, 0.33574, 0.32765, 0.32873, 0.32267, 0.31705, 0.31209],\n",
    "[0.35246, 0.3433, 0.33617, 0.32822, 0.32965, 0.32383, 0.31831, 0.31344],\n",
    "[0.35226, 0.34336, 0.33651, 0.32869, 0.3304, 0.32477, 0.31934, 0.31453],\n",
    "[0.35207, 0.34342, 0.33681, 0.32911, 0.33106, 0.32561, 0.32025, 0.3155],\n",
    "[0.35171, 0.34327, 0.33679, 0.32931, 0.3319, 0.32665, 0.32139, 0.31675],\n",
    "[0.35128, 0.343, 0.33658, 0.32937, 0.33276, 0.32769, 0.32255, 0.31802],\n",
    "[0.35086, 0.34274, 0.33637, 0.32943, 0.3336, 0.32872, 0.32368, 0.31927],\n",
    "[0.35049, 0.34252, 0.33618, 0.32948, 0.33432, 0.32959, 0.32465, 0.32034],\n",
    "[0.35016, 0.34231, 0.33602, 0.32953, 0.33498, 0.3304, 0.32554, 0.32132],\n",
    "[0.34986, 0.34213, 0.33587, 0.32957, 0.33556, 0.3311, 0.32631, 0.32217],\n",
    "[0.34959, 0.34196, 0.33573, 0.32961, 0.3361, 0.33176, 0.32704, 0.32296],\n",
    "[0.34934, 0.34181, 0.33561, 0.32964, 0.33658, 0.33235, 0.32769, 0.32368],\n",
    "[0.34912, 0.34167, 0.3355, 0.32967, 0.33701, 0.33288, 0.32827, 0.32432],\n",
    "[0.34891, 0.34154, 0.33539, 0.3297, 0.33742, 0.33337, 0.32881, 0.32492]]"
   ]
  },
  {
   "cell_type": "code",
   "execution_count": 7,
   "metadata": {},
   "outputs": [],
   "source": [
    "def setup_helpers(engine, expiration_dates, strikes, \n",
    "                  data, ref_date, spot, yield_ts, \n",
    "                  dividend_ts):\n",
    "    heston_helpers = []\n",
    "    grid_data = []\n",
    "    for i, date in enumerate(expiration_dates):\n",
    "        for j, s in enumerate(strikes):\n",
    "            t = (date - ref_date )\n",
    "            p = ql.Period(t, ql.Days)\n",
    "            vols = data[i][j]\n",
    "            helper = ql.HestonModelHelper(\n",
    "                p, calendar, spot, s, \n",
    "                ql.QuoteHandle(ql.SimpleQuote(vols)),\n",
    "                yield_ts, dividend_ts)\n",
    "            helper.setPricingEngine(engine)\n",
    "            heston_helpers.append(helper)\n",
    "            grid_data.append((date, s))\n",
    "    return heston_helpers, grid_data\n",
    "\n",
    "def cost_function_generator(model, helpers,norm=False):\n",
    "    def cost_function(params):\n",
    "        params_ = ql.Array(list(params))\n",
    "        model.setParams(params_)\n",
    "        error = [h.calibrationError() for h in helpers]\n",
    "        if norm:\n",
    "            return np.sqrt(np.sum(np.abs(error)))\n",
    "        else:\n",
    "            return error\n",
    "    return cost_function\n",
    "\n",
    "def calibration_report(helpers, grid_data, detailed=False):\n",
    "    avg = 0.0\n",
    "    if detailed:\n",
    "        print (\"%15s %25s %15s %15s %20s\" % (\n",
    "            \"Strikes\", \"Expiry\", \"Market Value\", \n",
    "             \"Model Value\", \"Relative Error (%)\"))\n",
    "        print (\"=\"*100)\n",
    "    for i, opt in enumerate(helpers):\n",
    "        err = (opt.modelValue()/opt.marketValue() - 1.0)\n",
    "        date,strike = grid_data[i]\n",
    "        if detailed:\n",
    "            print (\"%15.2f %25s %14.5f %15.5f %20.7f \" % (\n",
    "                strike, str(date), opt.marketValue(), \n",
    "                opt.modelValue(), \n",
    "                100.0*(opt.modelValue()/opt.marketValue() - 1.0)))\n",
    "        avg += abs(err)\n",
    "    avg = avg*100.0/len(helpers)\n",
    "    if detailed: print (\"-\"*100)\n",
    "    summary = \"Average Abs Error (%%) : %5.9f\" % (avg)\n",
    "    print (summary)\n",
    "    return avg\n",
    "    \n",
    "def setup_model(_yield_ts, _dividend_ts, _spot, \n",
    "                init_condition=(0.02,0.2,0.5,0.1,0.01)):\n",
    "    theta, kappa, sigma, rho, v0 = init_condition\n",
    "    process = ql.HestonProcess(_yield_ts, _dividend_ts, \n",
    "                           ql.QuoteHandle(ql.SimpleQuote(_spot)), \n",
    "                           v0, kappa, theta, sigma, rho)\n",
    "    model = ql.HestonModel(process)\n",
    "    engine = ql.AnalyticHestonEngine(model) \n",
    "    return model, engine\n",
    "summary= []"
   ]
  },
  {
   "cell_type": "code",
   "execution_count": 8,
   "metadata": {},
   "outputs": [],
   "source": [
    "model1, engine1 = setup_model(\n",
    "    yield_ts, dividend_ts, spot, \n",
    "    init_condition=(0.02,0.2,0.5,0.1,0.01))\n",
    "heston_helpers1, grid_data1 = setup_helpers(\n",
    "    engine1, expiration_dates, strikes, data, \n",
    "    calculation_date, spot, yield_ts, dividend_ts\n",
    ")\n",
    "initial_condition = list(model1.params())"
   ]
  },
  {
   "cell_type": "code",
   "execution_count": 10,
   "metadata": {},
   "outputs": [
    {
     "name": "stdout",
     "output_type": "stream",
     "text": [
      "theta = 0.125748, kappa = 7.915000, sigma = 1.887854, rho = -0.364942, v0 = 0.055397\n",
      "Average Abs Error (%) : 3.015268051\n",
      "CPU times: total: 1.62 s\n",
      "Wall time: 1.63 s\n"
     ]
    }
   ],
   "source": [
    "%%time\n",
    "lm = ql.LevenbergMarquardt(1e-8, 1e-8, 1e-8)\n",
    "model1.calibrate(heston_helpers1, lm, \n",
    "                 ql.EndCriteria(500, 300, 1.0e-8,1.0e-8, 1.0e-8))\n",
    "theta, kappa, sigma, rho, v0 = model1.params()\n",
    "print (\"theta = %f, kappa = %f, sigma = %f, rho = %f, v0 = %f\" % \\\n",
    "    (theta, kappa, sigma, rho, v0))\n",
    "error = calibration_report(heston_helpers1, grid_data1)\n",
    "summary.append([\"QL LM1\", error] + list(model1.params()))"
   ]
  },
  {
   "cell_type": "code",
   "execution_count": 11,
   "metadata": {},
   "outputs": [],
   "source": [
    "model1, engine1 = setup_model(\n",
    "    yield_ts, dividend_ts, spot, \n",
    "    init_condition=(0.07,0.5,0.1,0.1,0.1))\n",
    "heston_helpers1, grid_data1 = setup_helpers(\n",
    "    engine1, expiration_dates, strikes, data, \n",
    "    calculation_date, spot, yield_ts, dividend_ts\n",
    ")\n",
    "initial_condition = list(model1.params())"
   ]
  },
  {
   "cell_type": "code",
   "execution_count": 12,
   "metadata": {},
   "outputs": [
    {
     "name": "stdout",
     "output_type": "stream",
     "text": [
      "theta = 0.084523, kappa = 0.000000, sigma = 0.132289, rho = -0.514280, v0 = 0.099928\n",
      "Average Abs Error (%) : 11.007427310\n",
      "CPU times: total: 1.7 s\n",
      "Wall time: 1.71 s\n"
     ]
    }
   ],
   "source": [
    "%%time\n",
    "lm = ql.LevenbergMarquardt(1e-8, 1e-8, 1e-8)\n",
    "model1.calibrate(heston_helpers1, lm, \n",
    "                 ql.EndCriteria(500, 300, 1.0e-8,1.0e-8, 1.0e-8))\n",
    "theta, kappa, sigma, rho, v0 = model1.params()\n",
    "print (\"theta = %f, kappa = %f, sigma = %f, rho = %f, v0 = %f\" % \\\n",
    "    (theta, kappa, sigma, rho, v0))\n",
    "error = calibration_report(heston_helpers1, grid_data1)\n",
    "summary.append([\"QL LM2\", error] + list(model1.params()))"
   ]
  },
  {
   "cell_type": "code",
   "execution_count": 14,
   "metadata": {},
   "outputs": [],
   "source": [
    "model2, engine2 = setup_model(\n",
    "    yield_ts, dividend_ts, spot, \n",
    "    init_condition=(0.02,0.2,0.5,0.1,0.01))\n",
    "heston_helpers2, grid_data2 = setup_helpers(\n",
    "    engine2, expiration_dates, strikes, data,\n",
    "    calculation_date, spot, yield_ts, dividend_ts\n",
    ")\n",
    "initial_condition = list(model2.params())\n"
   ]
  },
  {
   "cell_type": "code",
   "execution_count": 15,
   "metadata": {},
   "outputs": [
    {
     "name": "stdout",
     "output_type": "stream",
     "text": [
      "theta = 0.125747, kappa = 7.915787, sigma = 1.887949, rho = -0.364943, v0 = 0.055394\n",
      "Average Abs Error (%) : 3.015251247\n",
      "CPU times: total: 1.58 s\n",
      "Wall time: 1.57 s\n"
     ]
    }
   ],
   "source": [
    "%%time\n",
    "cost_function = cost_function_generator(model2, heston_helpers2)\n",
    "sol = root(cost_function, initial_condition, method='lm')\n",
    "theta, kappa, sigma, rho, v0 = model2.params()\n",
    "print (\"theta = %f, kappa = %f, sigma = %f, rho = %f, v0 = %f\" % \\\n",
    "    (theta, kappa, sigma, rho, v0))\n",
    "error = calibration_report(heston_helpers2, grid_data2)\n",
    "summary.append([\"Scipy LM1\", error] + list(model2.params()))"
   ]
  },
  {
   "cell_type": "code",
   "execution_count": 16,
   "metadata": {},
   "outputs": [],
   "source": [
    "model2, engine2 = setup_model(\n",
    "    yield_ts, dividend_ts, spot,\n",
    "    init_condition=(0.07,0.5,0.1,0.1,0.1))\n",
    "heston_helpers2, grid_data2 = setup_helpers(\n",
    "    engine2, expiration_dates, strikes, data,\n",
    "    calculation_date, spot, yield_ts, dividend_ts\n",
    ")\n",
    "initial_condition = list(model2.params())"
   ]
  },
  {
   "cell_type": "code",
   "execution_count": 18,
   "metadata": {},
   "outputs": [
    {
     "name": "stdout",
     "output_type": "stream",
     "text": [
      "theta = 0.046679, kappa = -0.527006, sigma = 0.193377, rho = -1.003168, v0 = 0.090553\n",
      "Average Abs Error (%) : 6.832282553\n",
      "CPU times: total: 12.5 s\n",
      "Wall time: 12.5 s\n"
     ]
    }
   ],
   "source": [
    "%%time\n",
    "cost_function = cost_function_generator(model2, heston_helpers2)\n",
    "sol = root(cost_function, initial_condition, method='lm')\n",
    "theta, kappa, sigma, rho, v0 = model2.params()\n",
    "print (\"theta = %f, kappa = %f, sigma = %f, rho = %f, v0 = %f\" % \\\n",
    "    (theta, kappa, sigma, rho, v0))\n",
    "error = calibration_report(heston_helpers2, grid_data2)\n",
    "summary.append([\"Scipy LM2\", error] + list(model2.params()))"
   ]
  },
  {
   "cell_type": "markdown",
   "metadata": {},
   "source": [
    "### Least Squares"
   ]
  },
  {
   "cell_type": "code",
   "execution_count": 19,
   "metadata": {},
   "outputs": [],
   "source": [
    "from scipy.optimize import least_squares"
   ]
  },
  {
   "cell_type": "code",
   "execution_count": 20,
   "metadata": {},
   "outputs": [],
   "source": [
    "model3, engine3 = setup_model(\n",
    "    yield_ts, dividend_ts, spot, \n",
    "    init_condition=(0.02,0.2,0.5,0.1,0.01))\n",
    "heston_helpers3, grid_data3 = setup_helpers(\n",
    "    engine3, expiration_dates, strikes, data,\n",
    "    calculation_date, spot, yield_ts, dividend_ts\n",
    ")\n",
    "initial_condition = list(model3.params())"
   ]
  },
  {
   "cell_type": "code",
   "execution_count": 23,
   "metadata": {},
   "outputs": [
    {
     "name": "stdout",
     "output_type": "stream",
     "text": [
      "theta = 0.125748, kappa = 7.915304, sigma = 1.887890, rho = -0.364943, v0 = 0.055396\n",
      "Average Abs Error (%) : 3.015262340\n",
      "CPU times: total: 2.39 s\n",
      "Wall time: 2.42 s\n"
     ]
    }
   ],
   "source": [
    "%%time\n",
    "cost_function = cost_function_generator(model3, heston_helpers3)\n",
    "sol = least_squares(cost_function, initial_condition)\n",
    "theta, kappa, sigma, rho, v0 = model3.params()\n",
    "print (\"theta = %f, kappa = %f, sigma = %f, rho = %f, v0 = %f\" % \\\n",
    "    (theta, kappa, sigma, rho, v0))\n",
    "error = calibration_report(heston_helpers3, grid_data3)\n",
    "summary.append([\"Scipy LS1\", error] + list(model3.params()))"
   ]
  },
  {
   "cell_type": "code",
   "execution_count": 24,
   "metadata": {},
   "outputs": [],
   "source": [
    "\n",
    "model3, engine3 = setup_model(\n",
    "    yield_ts, dividend_ts, spot, \n",
    "    init_condition=(0.07,0.5,0.1,0.1,0.1))\n",
    "heston_helpers3, grid_data3 = setup_helpers(\n",
    "    engine3, expiration_dates, strikes, data,\n",
    "    calculation_date, spot, yield_ts, dividend_ts\n",
    ")\n",
    "initial_condition = list(model3.params())"
   ]
  },
  {
   "cell_type": "code",
   "execution_count": 26,
   "metadata": {},
   "outputs": [
    {
     "name": "stdout",
     "output_type": "stream",
     "text": [
      "theta = 3.134386, kappa = 0.000005, sigma = -0.000245, rho = -0.000010, v0 = 1.596710\n",
      "Average Abs Error (%) : 5.096425522\n",
      "CPU times: total: 15.2 s\n",
      "Wall time: 15.2 s\n"
     ]
    }
   ],
   "source": [
    "%%time\n",
    "cost_function = cost_function_generator(model3, heston_helpers3)\n",
    "sol = least_squares(cost_function, initial_condition)\n",
    "theta, kappa, sigma, rho, v0 = model3.params()\n",
    "print (\"theta = %f, kappa = %f, sigma = %f, rho = %f, v0 = %f\" % \\\n",
    "    (theta, kappa, sigma, rho, v0))\n",
    "error = calibration_report(heston_helpers3, grid_data3)\n",
    "summary.append([\"Scipy LS2\", error] + list(model3.params()))"
   ]
  },
  {
   "cell_type": "markdown",
   "metadata": {},
   "source": [
    "### Global solvers"
   ]
  },
  {
   "cell_type": "code",
   "execution_count": 27,
   "metadata": {},
   "outputs": [],
   "source": [
    "from scipy.optimize import differential_evolution"
   ]
  },
  {
   "cell_type": "code",
   "execution_count": 28,
   "metadata": {},
   "outputs": [],
   "source": [
    "model4, engine4 = setup_model(yield_ts, dividend_ts, spot)\n",
    "heston_helpers4, grid_data4 = setup_helpers(\n",
    "    engine4, expiration_dates, strikes, data,\n",
    "    calculation_date, spot, yield_ts, dividend_ts\n",
    ")\n",
    "initial_condition = list(model4.params())\n",
    "bounds = [(0,1),(0.01,15), (0.01,1.), (-1,1), (0,1.0) ]"
   ]
  },
  {
   "cell_type": "code",
   "execution_count": 30,
   "metadata": {},
   "outputs": [
    {
     "name": "stdout",
     "output_type": "stream",
     "text": [
      "theta = 0.124142, kappa = 4.872660, sigma = 0.991973, rho = -0.561901, v0 = 0.079451\n",
      "Average Abs Error (%) : 2.854480814\n",
      "CPU times: total: 42 s\n",
      "Wall time: 42 s\n"
     ]
    }
   ],
   "source": [
    "%%time\n",
    "cost_function = cost_function_generator(\n",
    "    model4, heston_helpers4, norm=True)\n",
    "sol = differential_evolution(cost_function, bounds, maxiter=100)\n",
    "theta, kappa, sigma, rho, v0 = model4.params()\n",
    "print (\"theta = %f, kappa = %f, sigma = %f, rho = %f, v0 = %f\" % \\\n",
    "    (theta, kappa, sigma, rho, v0))\n",
    "error = calibration_report(heston_helpers4, grid_data4)\n",
    "summary.append([\"Scipy DE1\", error] + list(model4.params()))"
   ]
  },
  {
   "cell_type": "code",
   "execution_count": 31,
   "metadata": {},
   "outputs": [],
   "source": [
    "model4, engine4 = setup_model(yield_ts, dividend_ts, spot)\n",
    "heston_helpers4, grid_data4 = setup_helpers(\n",
    "    engine4, expiration_dates, strikes, data,\n",
    "    calculation_date, spot, yield_ts, dividend_ts\n",
    ")\n",
    "initial_condition = list(model4.params())\n",
    "bounds = [(0,1),(0.01,15), (0.01,1.), (-1,1), (0,1.0) ]"
   ]
  },
  {
   "cell_type": "code",
   "execution_count": 32,
   "metadata": {},
   "outputs": [
    {
     "name": "stdout",
     "output_type": "stream",
     "text": [
      "theta = 0.123815, kappa = 4.769934, sigma = 0.930345, rho = -0.585336, v0 = 0.079519\n",
      "Average Abs Error (%) : 2.861707836\n",
      "CPU times: total: 48.5 s\n",
      "Wall time: 48.6 s\n"
     ]
    }
   ],
   "source": [
    "%%time\n",
    "cost_function = cost_function_generator(\n",
    "    model4, heston_helpers4, norm=True)\n",
    "sol = differential_evolution(cost_function, bounds, maxiter=100)\n",
    "theta, kappa, sigma, rho, v0 = model4.params()\n",
    "print (\"theta = %f, kappa = %f, sigma = %f, rho = %f, v0 = %f\" % \\\n",
    "    (theta, kappa, sigma, rho, v0))\n",
    "error = calibration_report(heston_helpers4, grid_data4)\n",
    "summary.append([\"Scipy DE2\", error] + list(model4.params()))"
   ]
  },
  {
   "cell_type": "code",
   "execution_count": null,
   "metadata": {},
   "outputs": [],
   "source": []
  }
 ],
 "metadata": {
  "kernelspec": {
   "display_name": "Python 3.9.7 ('tf_gpu')",
   "language": "python",
   "name": "python3"
  },
  "language_info": {
   "codemirror_mode": {
    "name": "ipython",
    "version": 3
   },
   "file_extension": ".py",
   "mimetype": "text/x-python",
   "name": "python",
   "nbconvert_exporter": "python",
   "pygments_lexer": "ipython3",
   "version": "3.9.7"
  },
  "orig_nbformat": 4,
  "vscode": {
   "interpreter": {
    "hash": "7bc5d2492bedd2112def6da40386b14ff447bab14dd7c03f73546c8039a32ba6"
   }
  }
 },
 "nbformat": 4,
 "nbformat_minor": 2
}
