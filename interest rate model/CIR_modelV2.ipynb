{
 "cells": [
  {
   "cell_type": "code",
   "execution_count": 47,
   "id": "f39881f6",
   "metadata": {},
   "outputs": [],
   "source": [
    "import numpy as np\n",
    "import math\n",
    "import pandas as pd\n",
    "import matplotlib.pyplot as plt\n",
    "import statsmodels.api as sm\n",
    "import numpy.random as npr\n"
   ]
  },
  {
   "cell_type": "code",
   "execution_count": 158,
   "id": "27276bd0",
   "metadata": {
    "scrolled": true
   },
   "outputs": [
    {
     "data": {
      "text/plain": [
       "105"
      ]
     },
     "execution_count": 158,
     "metadata": {},
     "output_type": "execute_result"
    }
   ],
   "source": [
    "data = pd.read_csv(\"rate3.csv\")\n",
    "\n",
    "data['DATE'] = pd.to_datetime(data['DATE'],format='%d/%m/%Y')\n",
    "data.head()\n"
   ]
  },
  {
   "cell_type": "code",
   "execution_count": 3,
   "id": "6b36c7dc",
   "metadata": {},
   "outputs": [],
   "source": [
    "def model_calibration(data):\n",
    "\n",
    "    rate = data[\"DTB3\"].values\n",
    "    #transfrom rate that <= 0 to 0.0001 te prevent neg value and zero division\n",
    "    rate = [0.0001 if item <= 0 else item for item in rate]      \n",
    "    \n",
    "    ols_y = [(y- x)/np.sqrt(x) for x, y in zip(rate, rate[1:])]\n",
    "    ols_x1 = [1/np.sqrt(x) for x, y in zip(rate, rate[1:])]\n",
    "    ols_x2 = [np.sqrt(x) for x, y in zip(rate, rate[1:])]\n",
    "\n",
    "    df = data.drop(index=0, axis=0)\n",
    "    df[\"ols_y\"] = ols_y\n",
    "    df[\"ols_x1\"] = ols_x1\n",
    "    df[\"ols_x2\"] = ols_x2\n",
    "\n",
    "    x = df[['ols_x1','ols_x2']]\n",
    "    y = df['ols_y']\n",
    "\n",
    "    model = sm.OLS(y, x).fit()\n",
    "    ab = model.params[0]\n",
    "    minus_a = model.params[1]\n",
    "    a = -minus_a\n",
    "    b = ab/a\n",
    "    sigma = np.sqrt(model.scale)\n",
    "    return a,b,sigma"
   ]
  },
  {
   "cell_type": "code",
   "execution_count": 232,
   "id": "6a851774",
   "metadata": {},
   "outputs": [],
   "source": [
    "def CIR_euler(kappa,theta,sigma,M,I,r0):\n",
    "    dt= 1/M\n",
    "    rh = np.zeros((M + 1, I))\n",
    "    r = np.zeros_like(rh)\n",
    "    rh[0] = r0\n",
    "    r[0] = r0\n",
    "    for t in range(1, M + 1):\n",
    "        rh[t] = (rh[t - 1] +\n",
    "                 kappa * (theta - np.maximum(rh[t - 1], 0)) * dt +\n",
    "                 sigma * np.sqrt(np.maximum(rh[t - 1], 0)) *\n",
    "                 math.sqrt(dt) * npr.standard_normal(I))  \n",
    "    r = np.maximum(rh, 0)\n",
    "    return r\n",
    "r1 = srd_euler(a,b,sigma,M,I,r0)"
   ]
  },
  {
   "cell_type": "code",
   "execution_count": 233,
   "id": "1e60b908",
   "metadata": {},
   "outputs": [],
   "source": [
    "def CIR_exact(kappa,theta,sigma,M,I,r0):\n",
    "    dt = 1/M\n",
    "    x = np.zeros((M+1,I))\n",
    "    x[0] = r0\n",
    "    for t in range(1, M+1):\n",
    "        df = 4*theta*kappa / sigma**2\n",
    "        c = (sigma ** 2 * (1- np.exp(-kappa * dt))) / (4 * kappa)\n",
    "        nc = np.exp(-kappa*dt)/c*x[t-1]\n",
    "        x[t] = c*npr.noncentral_chisquare(df,nc,size=I)\n",
    "    return x\n",
    "\n",
    "r = CIR_exact(a,b,sigma,M,I,r0)"
   ]
  },
  {
   "cell_type": "code",
   "execution_count": 234,
   "id": "29ff27ba",
   "metadata": {},
   "outputs": [
    {
     "data": {
      "text/plain": [
       "(253, 10000)"
      ]
     },
     "execution_count": 234,
     "metadata": {},
     "output_type": "execute_result"
    }
   ],
   "source": [
    "r.shape"
   ]
  },
  {
   "cell_type": "code",
   "execution_count": 163,
   "id": "9d41a6c4",
   "metadata": {},
   "outputs": [],
   "source": [
    "from pandas.tseries.holiday import USFederalHolidayCalendar\n",
    "cal = USFederalHolidayCalendar()\n",
    "holidays = cal.holidays(start='2021-01-01', end='2023-08-02')\n",
    "holidays_date = list(holidays.strftime('%Y-%m-%d'))"
   ]
  },
  {
   "cell_type": "code",
   "execution_count": 164,
   "id": "9e34aa1a",
   "metadata": {},
   "outputs": [
    {
     "data": {
      "text/plain": [
       "105"
      ]
     },
     "execution_count": 164,
     "metadata": {},
     "output_type": "execute_result"
    }
   ],
   "source": [
    "data_start_date = \"2021-01-01\"\n",
    "data_end_date = \"2022-06-01\" #On 1st Rolling Window \n",
    "\n",
    "sim_start_date = \"2022-06-01\"\n",
    "sim_end_date = \"2023-08-02\"\n",
    "\n",
    "#get indexes of 1st Rolling Window\n",
    "data_start_index = data.index[data['DATE']>=data_start_date].tolist()[0]\n",
    "data_end_index = data.index[data['DATE']<data_end_date].tolist()[-1]\n",
    "\n",
    "no_of_backtesting_days = np.busday_count(\"2022-06-01\", \"2022-11-01\",holidays = holidays_date) \n",
    "no_of_backtesting_days"
   ]
  },
  {
   "cell_type": "code",
   "execution_count": 226,
   "id": "bf7cd50f",
   "metadata": {
    "scrolled": true
   },
   "outputs": [
    {
     "name": "stdout",
     "output_type": "stream",
     "text": [
      "2022-05-31 00:00:00 1.13\n",
      "2022-06-01 00:00:00 1.12\n",
      "2022-06-02 00:00:00 1.13\n",
      "2022-06-03 00:00:00 1.17\n",
      "2022-06-06 00:00:00 1.23\n",
      "2022-06-07 00:00:00 1.24\n",
      "2022-06-08 00:00:00 1.25\n",
      "2022-06-09 00:00:00 1.26\n",
      "2022-06-10 00:00:00 1.34\n",
      "2022-06-13 00:00:00 1.69\n",
      "2022-06-14 00:00:00 1.78\n",
      "2022-06-15 00:00:00 1.69\n",
      "2022-06-16 00:00:00 1.54\n",
      "2022-06-17 00:00:00 1.58\n",
      "2022-06-21 00:00:00 1.66\n",
      "2022-06-22 00:00:00 1.57\n",
      "2022-06-23 00:00:00 1.59\n",
      "2022-06-24 00:00:00 1.66\n",
      "2022-06-27 00:00:00 1.75\n",
      "2022-06-28 00:00:00 1.75\n",
      "2022-06-29 00:00:00 1.73\n",
      "2022-06-30 00:00:00 1.66\n",
      "2022-07-01 00:00:00 1.66\n",
      "2022-07-05 00:00:00 1.86\n",
      "2022-07-06 00:00:00 1.85\n",
      "2022-07-07 00:00:00 1.89\n",
      "2022-07-08 00:00:00 1.91\n",
      "2022-07-11 00:00:00 2.13\n",
      "2022-07-12 00:00:00 2.16\n",
      "2022-07-13 00:00:00 2.33\n",
      "2022-07-14 00:00:00 2.33\n",
      "2022-07-15 00:00:00 2.29\n",
      "2022-07-18 00:00:00 2.44\n",
      "2022-07-19 00:00:00 2.46\n",
      "2022-07-20 00:00:00 2.44\n",
      "2022-07-21 00:00:00 2.4\n",
      "2022-07-22 00:00:00 2.41\n",
      "2022-07-25 00:00:00 2.55\n",
      "2022-07-26 00:00:00 2.48\n",
      "2022-07-27 00:00:00 2.37\n",
      "2022-07-28 00:00:00 2.35\n",
      "2022-07-29 00:00:00 2.34\n",
      "2022-08-01 00:00:00 2.48\n",
      "2022-08-02 00:00:00 2.48\n",
      "2022-08-03 00:00:00 2.44\n",
      "2022-08-04 00:00:00 2.41\n",
      "2022-08-05 00:00:00 2.48\n",
      "2022-08-08 00:00:00 2.57\n",
      "2022-08-09 00:00:00 2.58\n",
      "2022-08-10 00:00:00 2.56\n",
      "2022-08-11 00:00:00 2.52\n",
      "2022-08-12 00:00:00 2.53\n",
      "2022-08-15 00:00:00 2.63\n",
      "2022-08-16 00:00:00 2.61\n",
      "2022-08-17 00:00:00 2.59\n",
      "2022-08-18 00:00:00 2.61\n",
      "2022-08-19 00:00:00 2.64\n",
      "2022-08-22 00:00:00 2.74\n",
      "2022-08-23 00:00:00 2.71\n",
      "2022-08-24 00:00:00 2.73\n",
      "2022-08-25 00:00:00 2.78\n",
      "2022-08-26 00:00:00 2.78\n",
      "2022-08-29 00:00:00 2.89\n",
      "2022-08-30 00:00:00 2.88\n",
      "2022-08-31 00:00:00 2.87\n",
      "2022-09-01 00:00:00 2.88\n",
      "2022-09-02 00:00:00 2.85\n",
      "2022-09-06 00:00:00 2.96\n",
      "2022-09-07 00:00:00 2.98\n",
      "2022-09-08 00:00:00 2.97\n",
      "2022-09-09 00:00:00 2.98\n",
      "2022-09-12 00:00:00 3.09\n",
      "2022-09-13 00:00:00 3.19\n",
      "2022-09-14 00:00:00 3.14\n",
      "2022-09-15 00:00:00 3.12\n",
      "2022-09-16 00:00:00 3.1\n",
      "2022-09-19 00:00:00 3.29\n",
      "2022-09-20 00:00:00 3.26\n",
      "2022-09-21 00:00:00 3.21\n",
      "2022-09-22 00:00:00 3.19\n",
      "2022-09-23 00:00:00 3.12\n",
      "2022-09-26 00:00:00 3.3\n",
      "2022-09-27 00:00:00 3.26\n",
      "2022-09-28 00:00:00 3.29\n",
      "2022-09-29 00:00:00 3.26\n",
      "2022-09-30 00:00:00 3.22\n",
      "2022-10-03 00:00:00 3.34\n",
      "2022-10-04 00:00:00 3.32\n",
      "2022-10-05 00:00:00 3.33\n",
      "2022-10-06 00:00:00 3.32\n",
      "2022-10-07 00:00:00 3.31\n",
      "2022-10-11 00:00:00 3.53\n",
      "2022-10-12 00:00:00 3.56\n",
      "2022-10-13 00:00:00 3.64\n",
      "2022-10-14 00:00:00 3.65\n",
      "2022-10-17 00:00:00 3.82\n",
      "2022-10-18 00:00:00 3.89\n",
      "2022-10-19 00:00:00 3.91\n",
      "2022-10-20 00:00:00 3.91\n",
      "2022-10-21 00:00:00 3.9\n",
      "2022-10-24 00:00:00 4.0\n",
      "2022-10-25 00:00:00 3.97\n",
      "2022-10-26 00:00:00 3.94\n",
      "2022-10-27 00:00:00 3.95\n",
      "2022-10-28 00:00:00 3.99\n",
      "2022-10-31 00:00:00 4.06\n"
     ]
    }
   ],
   "source": [
    "dates = []\n",
    "estimated_r = []\n",
    "for i in range(no_of_backtesting_days+1):\n",
    "    \n",
    "    segmented_data = data.iloc[data_start_index+i:data_end_index+1+i]\n",
    "    segmented_data = segmented_data.reset_index(drop=True)\n",
    "    a,b,sigma = model_calibration(segmented_data)\n",
    "    \n",
    "    t0 = data.iloc[data_end_index+i][\"DATE\"]\n",
    "    r0 = data.iloc[data_end_index+i][\"DTB3\"]\n",
    "    print(t0,r0)\n",
    "    I = 10000\n",
    "    M = np.busday_count(t0.date(), sim_end_date,holidays = holidays_date)\n",
    "    r = CIR_euler(a,b,sigma,M,I,r0)\n",
    "    mean_r = np.mean(r, axis=1)\n",
    "    mean_r_without_r0 = np.delete(mean_r,0)\n",
    "    estimated_r.append(np.mean(mean_r_without_r0))\n",
    "    dates.append(data.iloc[data_end_index+i+1][\"DATE\"])"
   ]
  },
  {
   "cell_type": "code",
   "execution_count": 227,
   "id": "94bc6f2b",
   "metadata": {
    "scrolled": true
   },
   "outputs": [
    {
     "data": {
      "text/html": [
       "<div>\n",
       "<style scoped>\n",
       "    .dataframe tbody tr th:only-of-type {\n",
       "        vertical-align: middle;\n",
       "    }\n",
       "\n",
       "    .dataframe tbody tr th {\n",
       "        vertical-align: top;\n",
       "    }\n",
       "\n",
       "    .dataframe thead th {\n",
       "        text-align: right;\n",
       "    }\n",
       "</style>\n",
       "<table border=\"1\" class=\"dataframe\">\n",
       "  <thead>\n",
       "    <tr style=\"text-align: right;\">\n",
       "      <th></th>\n",
       "      <th>Date</th>\n",
       "      <th>rate</th>\n",
       "    </tr>\n",
       "  </thead>\n",
       "  <tbody>\n",
       "    <tr>\n",
       "      <th>0</th>\n",
       "      <td>2022-06-01</td>\n",
       "      <td>1.135458</td>\n",
       "    </tr>\n",
       "    <tr>\n",
       "      <th>1</th>\n",
       "      <td>2022-06-02</td>\n",
       "      <td>1.125811</td>\n",
       "    </tr>\n",
       "    <tr>\n",
       "      <th>2</th>\n",
       "      <td>2022-06-03</td>\n",
       "      <td>1.135708</td>\n",
       "    </tr>\n",
       "    <tr>\n",
       "      <th>3</th>\n",
       "      <td>2022-06-06</td>\n",
       "      <td>1.175799</td>\n",
       "    </tr>\n",
       "    <tr>\n",
       "      <th>4</th>\n",
       "      <td>2022-06-07</td>\n",
       "      <td>1.237052</td>\n",
       "    </tr>\n",
       "    <tr>\n",
       "      <th>...</th>\n",
       "      <td>...</td>\n",
       "      <td>...</td>\n",
       "    </tr>\n",
       "    <tr>\n",
       "      <th>101</th>\n",
       "      <td>2022-10-26</td>\n",
       "      <td>3.992551</td>\n",
       "    </tr>\n",
       "    <tr>\n",
       "      <th>102</th>\n",
       "      <td>2022-10-27</td>\n",
       "      <td>3.962345</td>\n",
       "    </tr>\n",
       "    <tr>\n",
       "      <th>103</th>\n",
       "      <td>2022-10-28</td>\n",
       "      <td>3.972527</td>\n",
       "    </tr>\n",
       "    <tr>\n",
       "      <th>104</th>\n",
       "      <td>2022-10-31</td>\n",
       "      <td>4.013035</td>\n",
       "    </tr>\n",
       "    <tr>\n",
       "      <th>105</th>\n",
       "      <td>2022-11-01</td>\n",
       "      <td>4.083738</td>\n",
       "    </tr>\n",
       "  </tbody>\n",
       "</table>\n",
       "<p>110 rows × 2 columns</p>\n",
       "</div>"
      ],
      "text/plain": [
       "          Date      rate\n",
       "0   2022-06-01  1.135458\n",
       "1   2022-06-02  1.125811\n",
       "2   2022-06-03  1.135708\n",
       "3   2022-06-06  1.175799\n",
       "4   2022-06-07  1.237052\n",
       "..         ...       ...\n",
       "101 2022-10-26  3.992551\n",
       "102 2022-10-27  3.962345\n",
       "103 2022-10-28  3.972527\n",
       "104 2022-10-31  4.013035\n",
       "105 2022-11-01  4.083738\n",
       "\n",
       "[110 rows x 2 columns]"
      ]
     },
     "execution_count": 227,
     "metadata": {},
     "output_type": "execute_result"
    }
   ],
   "source": [
    "d = {'Date': dates , 'rate': estimated_r}\n",
    "df = pd.DataFrame(data=d)\n",
    "df.tail()\n",
    "\n",
    "holidays_dates = cal.holidays(start='2022-06-01', end='2022-11-01')\n",
    "temp = np.empty((len(holidays_dates)))\n",
    "temp[:] = np.nan\n",
    "\n",
    "d2 = {'Date': holidays_dates , 'rate':temp }\n",
    "df2 = pd.DataFrame(data=d2)\n",
    "\n",
    "frames = [df, df2]\n",
    "result = pd.concat(frames)\n",
    "result['Date'] = pd.to_datetime(result['Date'],format='%Y-%m-%d')\n",
    "sort_df = result.sort_values(by='Date')\n",
    "sort_df.fillna(method=\"ffill\",inplace=True)\n",
    "sort_df"
   ]
  },
  {
   "cell_type": "code",
   "execution_count": 243,
   "id": "13dcf6ad",
   "metadata": {},
   "outputs": [
    {
     "data": {
      "text/plain": [
       "Text(0, 0.5, 'rate')"
      ]
     },
     "execution_count": 243,
     "metadata": {},
     "output_type": "execute_result"
    },
    {
     "data": {
      "image/png": "[encoded data removed]",
      "text/plain": [
       "<Figure size 1000x600 with 1 Axes>"
      ]
     },
     "metadata": {},
     "output_type": "display_data"
    }
   ],
   "source": [
    "true_rate_data = pd.DataFrame(data[(data[\"DATE\"] <= \"2022-11-01\") & (data[\"DATE\"] >= \"2022-06-01\")])\n",
    "true_rate_data[\"estimated_r\"] = estimated_r\n",
    "plt.figure(figsize=(10,6))\n",
    "plt.plot(true_rate_data.DATE,true_rate_data.DTB3 ,label = \"true_rate\")\n",
    "plt.plot(true_rate_data.DATE,true_rate_data.estimated_r , label = \"estimated_r\")\n",
    "plt.legend()\n",
    "plt.xlabel(\"time\")\n",
    "plt.ylabel(\"rate\")"
   ]
  },
  {
   "cell_type": "code",
   "execution_count": 245,
   "id": "31eb05ed",
   "metadata": {},
   "outputs": [],
   "source": [
    "\"\"\"df.to_csv(\"interest_rate_woh.csv\",index=False)\n",
    "sort_df.to_csv(\"interest_rate_wh.csv\",index=False)\"\"\""
   ]
  }
 ],
 "metadata": {
  "kernelspec": {
   "display_name": "Python 3 (ipykernel)",
   "language": "python",
   "name": "python3"
  },
  "language_info": {
   "codemirror_mode": {
    "name": "ipython",
    "version": 3
   },
   "file_extension": ".py",
   "mimetype": "text/x-python",
   "name": "python",
   "nbconvert_exporter": "python",
   "pygments_lexer": "ipython3",
   "version": "3.9.12"
  }
 },
 "nbformat": 4,
 "nbformat_minor": 5
}
